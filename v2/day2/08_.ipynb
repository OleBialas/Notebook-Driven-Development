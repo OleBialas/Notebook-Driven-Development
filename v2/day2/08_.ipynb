{
 "cells": [
  {
   "cell_type": "markdown",
   "id": "3ddd2e84-b3af-438f-97cf-fb8be5a9caf9",
   "metadata": {},
   "source": [
    "## PROJECT\n",
    "\n",
    "(find ways to get more practice with batch proceesing\n",
    "example, one template for generating csv, one moe for visualization)\n",
    ")\n",
    "\n",
    "same (analysis) \n",
    "\n",
    "data1.csv\n",
    "\n",
    "data2.csv\n",
    "\n",
    "data3.csv"
   ]
  }
 ],
 "metadata": {
  "kernelspec": {
   "display_name": "Python 3 (ipykernel)",
   "language": "python",
   "name": "python3"
  },
  "language_info": {
   "codemirror_mode": {
    "name": "ipython",
    "version": 3
   },
   "file_extension": ".py",
   "mimetype": "text/x-python",
   "name": "python",
   "nbconvert_exporter": "python",
   "pygments_lexer": "ipython3",
   "version": "3.12.7"
  }
 },
 "nbformat": 4,
 "nbformat_minor": 5
}
