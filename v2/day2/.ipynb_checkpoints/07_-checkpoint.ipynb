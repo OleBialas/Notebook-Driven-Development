{
 "cells": [
  {
   "cell_type": "markdown",
   "id": "53e529f2-2750-4ae2-a41f-e9faab8c84ad",
   "metadata": {},
   "source": [
    "## for-loop"
   ]
  },
  {
   "cell_type": "markdown",
   "id": "9e0ef243-70be-410b-8244-9195cabb3d29",
   "metadata": {},
   "source": [
    "## Papermill CLI"
   ]
  },
  {
   "cell_type": "markdown",
   "id": "bf37e320-be25-48de-876a-6fff6d1f6f11",
   "metadata": {},
   "source": [
    "## Papermill Python API"
   ]
  },
  {
   "cell_type": "markdown",
   "id": "88b2f714-2048-4246-9d52-04d3bd87b0dc",
   "metadata": {},
   "source": [
    "## Batch Processing (toy example)"
   ]
  }
 ],
 "metadata": {
  "kernelspec": {
   "display_name": "Python 3 (ipykernel)",
   "language": "python",
   "name": "python3"
  },
  "language_info": {
   "codemirror_mode": {
    "name": "ipython",
    "version": 3
   },
   "file_extension": ".py",
   "mimetype": "text/x-python",
   "name": "python",
   "nbconvert_exporter": "python",
   "pygments_lexer": "ipython3",
   "version": "3.12.7"
  }
 },
 "nbformat": 4,
 "nbformat_minor": 5
}
