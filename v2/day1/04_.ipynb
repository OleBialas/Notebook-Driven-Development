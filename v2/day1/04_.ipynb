{
 "cells": [
  {
   "cell_type": "markdown",
   "id": "a15998d3-1e5b-4fd5-baee-dbec93aa0c2b",
   "metadata": {},
   "source": [
    "## Project: Make and Share a Panel Application on GitHub\n",
    "\n",
    "  - Make a github repo, and add a notebook to it\n",
    "  - Add a notebook that is servable with panel.\n",
    "  - Add a readme with instructions on how to `panel serve`\n",
    "  - \n",
    "https://panel.holoviz.org/tutorials/intermediate/serve.html"
   ]
  },
  {
   "cell_type": "code",
   "execution_count": null,
   "id": "b63b71c2-a55b-43fd-a5a0-e2b7d52c8cff",
   "metadata": {},
   "outputs": [],
   "source": []
  },
  {
   "cell_type": "code",
   "execution_count": null,
   "id": "400dfbfb-029f-472d-9ff8-e6e8131b5b8a",
   "metadata": {},
   "outputs": [],
   "source": []
  },
  {
   "cell_type": "code",
   "execution_count": null,
   "id": "3f71faf7-97ad-4b71-9b7a-5c0d51efcdc1",
   "metadata": {},
   "outputs": [],
   "source": []
  },
  {
   "cell_type": "code",
   "execution_count": null,
   "id": "9194fab8-3f6e-42af-b1fd-a49e1562184c",
   "metadata": {},
   "outputs": [],
   "source": []
  }
 ],
 "metadata": {
  "kernelspec": {
   "display_name": "Python 3 (ipykernel)",
   "language": "python",
   "name": "python3"
  },
  "language_info": {
   "codemirror_mode": {
    "name": "ipython",
    "version": 3
   },
   "file_extension": ".py",
   "mimetype": "text/x-python",
   "name": "python",
   "nbconvert_exporter": "python",
   "pygments_lexer": "ipython3",
   "version": "3.12.7"
  }
 },
 "nbformat": 4,
 "nbformat_minor": 5
}
