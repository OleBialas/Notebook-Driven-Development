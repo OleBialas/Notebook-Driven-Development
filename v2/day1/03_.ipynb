{
 "cells": [
  {
   "cell_type": "markdown",
   "id": "3d3a56ff-73c9-4d02-8d61-eaaa840cb8c7",
   "metadata": {},
   "source": [
    "### Motivating Example: hvplot.explorer()"
   ]
  },
  {
   "cell_type": "markdown",
   "id": "db5b0f68-688c-4580-8531-ecc559f6fdca",
   "metadata": {},
   "source": [
    "## Advanced HvPlot: Layouts"
   ]
  },
  {
   "cell_type": "markdown",
   "id": "5deff62c-186a-4e8c-a40b-62c9dbf0a257",
   "metadata": {},
   "source": [
    "## Widgets (hvplot)"
   ]
  },
  {
   "cell_type": "markdown",
   "id": "edd7ccb7-8377-421d-b126-29b792a9dfc0",
   "metadata": {},
   "source": [
    "## Widgets (panel)"
   ]
  },
  {
   "cell_type": "markdown",
   "id": "0b8820fc-0903-4cf3-8457-84bac202596d",
   "metadata": {},
   "source": [
    "## Widgets 2 (Panel)"
   ]
  },
  {
   "cell_type": "markdown",
   "id": "1df9dcc7-5d92-4039-819a-4fe345a86e33",
   "metadata": {},
   "source": []
  }
 ],
 "metadata": {
  "kernelspec": {
   "display_name": "Python 3 (ipykernel)",
   "language": "python",
   "name": "python3"
  },
  "language_info": {
   "codemirror_mode": {
    "name": "ipython",
    "version": 3
   },
   "file_extension": ".py",
   "mimetype": "text/x-python",
   "name": "python",
   "nbconvert_exporter": "python",
   "pygments_lexer": "ipython3",
   "version": "3.11.10"
  }
 },
 "nbformat": 4,
 "nbformat_minor": 5
}
