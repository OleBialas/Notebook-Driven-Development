{
 "cells": [
  {
   "cell_type": "markdown",
   "id": "87adb7d5-f44c-4f73-856f-4576657678f0",
   "metadata": {},
   "source": []
  },
  {
   "cell_type": "markdown",
   "id": "7c1755ad-68d3-486c-baf2-de4eea4b4940",
   "metadata": {},
   "source": [
    "# Project: \n",
    "\n",
    "  - Something you would email to your PI\n",
    "  - Something you would present at a lab meeting"
   ]
  },
  {
   "cell_type": "markdown",
   "id": "ee9bd6ed-731f-41fc-aa0b-249dc52e91ec",
   "metadata": {},
   "source": [
    "### Reference Code\n",
    "\n",
    "| Code  | Description  |\n",
    "| :-- | :-- |\n",
    "|  |  |"
   ]
  },
  {
   "cell_type": "markdown",
   "id": "0f3850fd-aa08-4021-9dfc-32dc86263ca0",
   "metadata": {},
   "source": [
    "### Making Slides"
   ]
  },
  {
   "cell_type": "code",
   "execution_count": null,
   "id": "319fa020-fa9b-4b78-98ce-694675ed6b39",
   "metadata": {},
   "outputs": [],
   "source": []
  },
  {
   "cell_type": "code",
   "execution_count": null,
   "id": "67134608-916a-4fc5-b594-a298322f7947",
   "metadata": {},
   "outputs": [],
   "source": []
  }
 ],
 "metadata": {
  "kernelspec": {
   "display_name": "Python 3 (ipykernel)",
   "language": "python",
   "name": "python3"
  },
  "language_info": {
   "codemirror_mode": {
    "name": "ipython",
    "version": 3
   },
   "file_extension": ".py",
   "mimetype": "text/x-python",
   "name": "python",
   "nbconvert_exporter": "python",
   "pygments_lexer": "ipython3",
   "version": "3.11.10"
  }
 },
 "nbformat": 4,
 "nbformat_minor": 5
}
