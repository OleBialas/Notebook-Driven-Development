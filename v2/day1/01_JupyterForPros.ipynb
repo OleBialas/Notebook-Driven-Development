{
 "cells": [
  {
   "cell_type": "markdown",
   "id": "28ff481d-bcd1-4d13-9b66-e6c07fec22f9",
   "metadata": {},
   "source": [
    "# Jupyter Notebooks To Make Advanced Analysis Documents\n",
    "\n",
    "Jupyter Notebooks are a powerful tool to combine your code and add analysis documentation all in the same document. In this session, we start by understanding the basic unit of a Jupyter notebook known as cell and cell modes. Then we look into some of the advanced ways to integrate text based explanations into analysis document. Now that we are familiar with the structure of Jupyter notebook, we move on to looking at the data itself within a notebook using `Pandas`. Finally, we use `hvPlot` to add visualizations.\n",
    "\n",
    "To make things easier, you can use the following shortcut table to quickly navigate and edit Jupyter notebook.\n",
    "\n",
    "| **Shortcut**              | **Action**                                         |\n",
    "|---------------------------|---------------------------------------------------|\n",
    "| `Shift + Enter`            | Run the current cell and move to the next         |\n",
    "| `Ctrl + Enter`             | Run the current cell but stay on the same cell    |\n",
    "| `Alt + Enter`              | Run the current cell and insert a new one below   |\n",
    "| `Esc + A`                  | Insert a new cell above                           |\n",
    "| `Esc + B`                  | Insert a new cell below                           |\n",
    "| `Esc + D + D`              | Delete the current cell                           |\n",
    "| `Esc + M`                  | Convert the current cell to Markdown              |\n",
    "| `Esc + Y`                  | Convert the current cell to Code                  |\n",
    "| `Esc + R`                  | Convert the current cell to Raw                  |\n",
    "| `Esc + Z`                  | Undo cell deletion                                |\n",
    "| `Ctrl + Shift + -`         | Split the current cell at the cursor              |\n",
    "| `Ctrl + S`                 | Save the notebook                                 |\n",
    "| `Ctrl + /`                 | Toggle comment on the selected code line(s)       |\n",
    "| `Esc + L`                  | Toggle line numbers in the current cell           |\n",
    "| `Esc + O`                  | Toggle cell output visibility                     |\n",
    "| `Esc + H`                  | Show keyboard shortcuts help dialog               |\n",
    "| `Ctrl + Shift + P`         | Open the command palette                          |\n",
    "| `Esc + Shift + Arrow Up`   | Select multiple cells upwards                     |\n",
    "| `Esc + Shift + Arrow Down` | Select multiple cells downwards                   |\n",
    "| `Esc + Shift + M`          | Merge selected cells                              |\n"
   ]
  },
  {
   "cell_type": "markdown",
   "id": "31fd46a7-6c35-4013-b195-d3871fa3069b",
   "metadata": {},
   "source": [
    "### Cell Types and Cell Modes\n",
    "\n",
    "Cell is a basic unit of Jupyter notebook. It is where we write, execute, and organize our code and notes. There are three types of cells in Jupyter.\n",
    "\n",
    "![Cell Type](img/cell_mode.png)\n",
    "\n",
    "- **Code Cells**: Execute code and display the resulting output below the cell.\n",
    "- **Markdown Cells**: Render formatted text for documentation, using Markdown syntax.\n",
    "- **Raw NBConvert Cells**: Contain raw, unprocessed text meant for export without modification.\n",
    "\n",
    "There are two types of cell modes: Command mode and Edit mode. Basically, command mode lets you change your cell at the notebook level while edit mode lets you change the contents of the cell. \n",
    "\n",
    "| Mode          | How to Access                | What Can Be Done                                  |\n",
    "|---------------|------------------------------|---------------------------------------------------|\n",
    "| **Command Mode** | Press **Esc** or click outside the cell | Manage cells: Add, delete, copy, paste, move cells. |\n",
    "| **Edit Mode**    | Press **Enter** or click inside the cell | Edit cell content: Type, modify text/code, format. |"
   ]
  },
  {
   "cell_type": "markdown",
   "id": "dab61e13-4e33-4bd0-829e-87298ae71145",
   "metadata": {},
   "source": [
    "Let;s start by looking into code cells.\n",
    "\n",
    "**Example** In a code cell, type 1+1 and execute the cell (Ctrl+Enter). What do you see?"
   ]
  },
  {
   "cell_type": "code",
   "execution_count": 1,
   "id": "c48b93ce-ed0e-4485-885a-45f5089b6343",
   "metadata": {},
   "outputs": [
    {
     "data": {
      "text/plain": [
       "2"
      ]
     },
     "execution_count": 1,
     "metadata": {},
     "output_type": "execute_result"
    }
   ],
   "source": [
    "1 + 1"
   ]
  },
  {
   "cell_type": "markdown",
   "id": "1f57e9ae-e5f3-498c-b848-fb5d159261b1",
   "metadata": {},
   "source": [
    "Jupyter evaluates the arithmetic expression and displays the result 2. Since it's an expression, the output is captured and numbered as Out[1]: 2. where the square brackets hold the execution count. If you execute the same cell again, it will change.\n",
    "\n",
    "Type in \"Hello\" in a code cell and execute it. Do you still see the ouput number?"
   ]
  },
  {
   "cell_type": "code",
   "execution_count": 2,
   "id": "f14da3a6-ecc7-4205-b304-0a8338e39737",
   "metadata": {},
   "outputs": [
    {
     "data": {
      "text/plain": [
       "'Hello'"
      ]
     },
     "execution_count": 2,
     "metadata": {},
     "output_type": "execute_result"
    }
   ],
   "source": [
    "\"Hello\""
   ]
  },
  {
   "cell_type": "markdown",
   "id": "0550b552-abda-4893-bc4f-36af357c9aac",
   "metadata": {},
   "source": [
    "You will see it as \"Hello\" is still considered a string expression in Jupyter and evaluated. Now, let's use a Python print() function to display hello.\n",
    "\n",
    "Type print(\"Hello\") in a code cell. Any difference?"
   ]
  },
  {
   "cell_type": "code",
   "execution_count": 3,
   "id": "987305c1-b48f-4d9c-ba4b-ab7e3e470b87",
   "metadata": {
    "scrolled": true
   },
   "outputs": [
    {
     "name": "stdout",
     "output_type": "stream",
     "text": [
      "Hello\n"
     ]
    }
   ],
   "source": [
    "print('Hello')"
   ]
  },
  {
   "cell_type": "markdown",
   "id": "9c109f9f-9390-4688-9416-559c0aa3356d",
   "metadata": {},
   "source": [
    "Unlike expressions, print() doesn't return a value, so no output number is assigned, and the result appears as console output without a corresponding Out[] number. \n",
    "\n",
    "**Example** Assign value of 10 to variable a and execute the code cell."
   ]
  },
  {
   "cell_type": "code",
   "execution_count": 8,
   "id": "d4dc9fd7-3ea4-450b-9f82-1179a9f813ef",
   "metadata": {},
   "outputs": [],
   "source": [
    "a=10"
   ]
  },
  {
   "cell_type": "markdown",
   "id": "73945f2f-2580-481b-ad2f-cddd36257bed",
   "metadata": {},
   "source": [
    "This is an assignment statement. It assigns the value 10 to the variable a. Since assignment statements don’t produce output by themselves, there is no result displayed or numbered output.\n",
    "\n",
    "If you want to see an output, type \n",
    "```\n",
    "a=10\n",
    "a\n",
    "```"
   ]
  },
  {
   "cell_type": "code",
   "execution_count": 5,
   "id": "52369589-b51c-4a0f-860c-fcb5738e65d6",
   "metadata": {},
   "outputs": [
    {
     "data": {
      "text/plain": [
       "10"
      ]
     },
     "execution_count": 5,
     "metadata": {},
     "output_type": "execute_result"
    }
   ],
   "source": [
    "a=10\n",
    "a"
   ]
  },
  {
   "cell_type": "markdown",
   "id": "2cc090bb-ebbb-4cf5-83b5-7e49025d6e94",
   "metadata": {},
   "source": [
    "After assigning a = 10 in the previous cell, entering just a evaluates the variable and returns its value, 10. This is treated as an expression, so Jupyter displays the result and assigns the output number.\n",
    "\n",
    "Assign 10 to a, and 10 to b. \n",
    "Add a and b \n",
    "Execute the cell"
   ]
  },
  {
   "cell_type": "code",
   "execution_count": 9,
   "id": "a2243d64-8e3f-4921-b137-e05e61a2a6b4",
   "metadata": {},
   "outputs": [
    {
     "data": {
      "text/plain": [
       "20"
      ]
     },
     "execution_count": 9,
     "metadata": {},
     "output_type": "execute_result"
    }
   ],
   "source": [
    "a=10\n",
    "b=10\n",
    "a+b"
   ]
  },
  {
   "cell_type": "markdown",
   "id": "eea1316f-76ca-4e51-b1ef-46fdacf9b440",
   "metadata": {},
   "source": [
    "Let's see a small example of markdown cell. \n",
    "\n",
    "**Example** Type 1+1 in a markdown cell"
   ]
  },
  {
   "cell_type": "markdown",
   "id": "ffeea2da-d859-425f-90d6-1d913e2141cc",
   "metadata": {},
   "source": [
    "1 + 1"
   ]
  },
  {
   "cell_type": "markdown",
   "id": "bdb710ce-6273-48e6-9603-7a3c81bf6fa7",
   "metadata": {},
   "source": [
    "It does not do anything as markdown cells are not evaluated. They are only for formatting texts\n",
    "\n",
    "Try print(\"hello\") in markdown. What do you expect?"
   ]
  },
  {
   "cell_type": "markdown",
   "id": "59619395-7f54-4762-81b4-f38445723950",
   "metadata": {},
   "source": [
    "print(\"hello\")"
   ]
  },
  {
   "cell_type": "markdown",
   "id": "b9308512-6f1e-4222-9795-8011d1478f33",
   "metadata": {},
   "source": [
    "How about Raw cell?\n",
    "\n",
    "**Example** Type 1+1 in Raw cell"
   ]
  },
  {
   "cell_type": "raw",
   "id": "24a6292f-eefc-48c5-a5e5-76203aedbc9c",
   "metadata": {},
   "source": [
    "1+1"
   ]
  },
  {
   "cell_type": "markdown",
   "id": "10d22bba-5a6c-4b29-a171-301673a328d7",
   "metadata": {},
   "source": [
    "Nothing? Same as Markdown? Then why Raw? Raw cells display content exactly as it is written, with no formatting, processing, or interpretation. They are typically used when you want to export the notebook in a specific way or preserve unformatted text. Markdown cells process the content, apply markdown formatting, and display it in a rendered form.\n",
    "\n",
    "Lets summarize the three types of cells with the below exercises\n",
    "\n",
    "**Example** Type the below code in a code cell. \n",
    "```python\n",
    "# this is in code\n",
    "```"
   ]
  },
  {
   "cell_type": "code",
   "execution_count": 12,
   "id": "cdef2434-d93e-4896-98c0-b74a001f268a",
   "metadata": {},
   "outputs": [],
   "source": [
    "# this is in code"
   ]
  },
  {
   "cell_type": "markdown",
   "id": "89c60fde-269a-4d9f-b7a6-f06f482d1441",
   "metadata": {},
   "source": [
    "This executes like a code cell. However, in Python, any line starting with # is not executed. These are called comments.\n",
    "\n",
    "Type \"# this is in markdown\" in markdown cell"
   ]
  },
  {
   "cell_type": "markdown",
   "id": "c8760738-9cb8-4b0f-9294-1ade82ec1fb7",
   "metadata": {},
   "source": [
    "# This is in markdown"
   ]
  },
  {
   "cell_type": "markdown",
   "id": "98874d8b-fba7-4de4-8cd3-123327c5114f",
   "metadata": {},
   "source": [
    "Markdown renders anything after # as a heading. So you see the same text in large font size. \n",
    "\n",
    "Type '# this is raw' in raw cell"
   ]
  },
  {
   "cell_type": "raw",
   "id": "a27e5ee2-c59a-44ae-8a55-8963c79df4bf",
   "metadata": {},
   "source": [
    "# This is raw"
   ]
  },
  {
   "cell_type": "markdown",
   "id": "b4222cb0-94ce-4d1a-a5b2-1f4defd6f881",
   "metadata": {},
   "source": [
    "Here the text is not formatted. "
   ]
  },
  {
   "cell_type": "markdown",
   "id": "e21fa5f2-dc98-4e75-83bb-f71dd8cc6f4c",
   "metadata": {},
   "source": [
    "---"
   ]
  },
  {
   "cell_type": "markdown",
   "id": "20b19fbf-3020-44d6-b3cf-5a00299a1d0d",
   "metadata": {},
   "source": [
    "### Markdown\n",
    "\n",
    "Markdown in Jupyter Notebooks is a great tool for formatting text, embedding images, and organizing information.\n",
    "\n",
    "You can create headings using # symbols for different levels. More number of # preceding the heading text, smaller is the font size. \n",
    "\n",
    "**Example** Create a markdown cell that looks like this\n",
    "# This is level 1 heading\n",
    "\n",
    "Hint: \n",
    "```markdown\n",
    "# This is level 1 heading\n",
    "```"
   ]
  },
  {
   "cell_type": "markdown",
   "id": "61c2098d-6f98-4183-8922-27e12ccf3b3d",
   "metadata": {},
   "source": [
    "## Create a level 2 heading that looks like this"
   ]
  },
  {
   "cell_type": "code",
   "execution_count": null,
   "id": "ab854120-dd2a-42bb-a48a-c1305fd044ca",
   "metadata": {},
   "outputs": [],
   "source": []
  },
  {
   "cell_type": "markdown",
   "id": "c2bb6f7d-ae0d-4406-83fe-e0931db7f82c",
   "metadata": {},
   "source": [
    "###### Create a level 6 heading that looks like this"
   ]
  },
  {
   "cell_type": "code",
   "execution_count": null,
   "id": "da134caa-5ce1-4490-912f-fba242852033",
   "metadata": {},
   "outputs": [],
   "source": []
  },
  {
   "cell_type": "markdown",
   "id": "f8778faf-53de-41ca-85c6-b9dc82134526",
   "metadata": {},
   "source": [
    "You can also make the text bold, italics, or both.\n",
    "\n",
    "**Example** Make text bold\n",
    "```markdown\n",
    "**This is Bold**\n",
    "\n",
    "```"
   ]
  },
  {
   "cell_type": "code",
   "execution_count": null,
   "id": "5ee4c37b-a630-41c6-bfff-680ae8f4bafb",
   "metadata": {},
   "outputs": [],
   "source": []
  },
  {
   "cell_type": "markdown",
   "id": "19a5e4ab-564d-4f15-858b-67744001f8d4",
   "metadata": {},
   "source": [
    "Make your text into italics by using only one * instead of two on either side of the text"
   ]
  },
  {
   "cell_type": "code",
   "execution_count": null,
   "id": "cd5f57ef-bde6-4639-a758-49b9863bb6de",
   "metadata": {},
   "outputs": [],
   "source": []
  },
  {
   "cell_type": "markdown",
   "id": "5e5b1eb2-07e3-4c85-94b6-1fe3f52883ef",
   "metadata": {},
   "source": [
    "Make your text bold and italicised by using *** on either side of the text"
   ]
  },
  {
   "cell_type": "markdown",
   "id": "36868827-6975-46e2-af76-a473f2cfbfae",
   "metadata": {},
   "source": [
    "You can also make ordered and unordered lists in Jupyter notebook\n",
    "\n",
    "**Example** Make an unordered list of programming languages\n",
    "```markdown\n",
    "- Python\n",
    "- Julia\n",
    "- R\n",
    "```"
   ]
  },
  {
   "cell_type": "code",
   "execution_count": null,
   "id": "0d22087d-57f6-44fe-a3fd-1bdefff4ce04",
   "metadata": {},
   "outputs": [],
   "source": []
  },
  {
   "cell_type": "markdown",
   "id": "03ddef7f-b18c-46a2-9a10-4722b801b1aa",
   "metadata": {},
   "source": [
    "You can also use *, or + to create unordered lists. Make an unordered list of your favorite fruits using *"
   ]
  },
  {
   "cell_type": "code",
   "execution_count": null,
   "id": "2f3b14fc-cb4d-4954-bd1c-f52da39efff0",
   "metadata": {},
   "outputs": [],
   "source": []
  },
  {
   "cell_type": "markdown",
   "id": "9da8c263-b80f-4847-8850-410526a79eb5",
   "metadata": {},
   "source": [
    "Make an unordered list of your favorite fruits using +"
   ]
  },
  {
   "cell_type": "code",
   "execution_count": null,
   "id": "19496095-1eed-4eea-b386-f1df1c6b5ddb",
   "metadata": {},
   "outputs": [],
   "source": []
  },
  {
   "cell_type": "markdown",
   "id": "0703a4fc-5be0-4758-a78b-06dac5fb297f",
   "metadata": {},
   "source": [
    "Making an ordered list is easy. Just number your list from 1 to n. Make an ordered list of even numbers"
   ]
  },
  {
   "cell_type": "code",
   "execution_count": null,
   "id": "4abae6a9-5ac1-493b-82f5-650b8b82087b",
   "metadata": {},
   "outputs": [],
   "source": []
  },
  {
   "cell_type": "markdown",
   "id": "94327948-df3b-4fb6-8926-b72118882735",
   "metadata": {},
   "source": [
    "Create this list\n",
    "\n",
    "- First item\n",
    "  - Sub-item 1\n",
    "    - Sub-sub-item 1\n",
    "    - Sub-sub-item 2\n",
    "  - Sub-item 2\n",
    "- Second item\n",
    "  - Sub-item 1\n",
    "    - Sub-sub-item 1\n",
    "  - Sub-item 2\n"
   ]
  },
  {
   "cell_type": "code",
   "execution_count": null,
   "id": "1cab8f95-40a3-4f03-affa-348c037a8f87",
   "metadata": {},
   "outputs": [],
   "source": []
  },
  {
   "cell_type": "markdown",
   "id": "ec0757a6-6239-41bb-b898-12fff888f1d1",
   "metadata": {},
   "source": [
    "How about this?\n",
    "\n",
    "1. First item (ordered)\n",
    "   - Sub-item 1 (unordered)\n",
    "     - Sub-sub-item 1 (unordered)\n",
    "     - Sub-sub-item 2 (unordered)\n",
    "   - Sub-item 2 (unordered)\n",
    "2. Second item (ordered)\n",
    "   1. Sub-item 1 (ordered)\n",
    "      - Sub-sub-item 1 (unordered)\n",
    "      - Sub-sub-item 2 (unordered)\n",
    "   2. Sub-item 2 (ordered)\n",
    "3. Third item (ordered)\n",
    "   - Sub-item 1 (unordered)\n",
    "   - Sub-item 2 (unordered)\n",
    "     1. Sub-sub-item 1 (ordered)\n",
    "     2. Sub-sub-item 2 (ordered)\n"
   ]
  },
  {
   "cell_type": "markdown",
   "id": "a6b51e2e-d972-463d-8ede-06cccfa243d1",
   "metadata": {},
   "source": [
    "You can add hyperlinks. \n",
    "\n",
    "```markdown\n",
    "[The Name You Want To See](https://abc.com)\n",
    "```\n",
    "\n",
    "Add a link to your favorite website"
   ]
  },
  {
   "cell_type": "code",
   "execution_count": null,
   "id": "820fb7df-cdbe-4a85-8fcf-488d5ae32b0c",
   "metadata": {},
   "outputs": [],
   "source": []
  },
  {
   "cell_type": "markdown",
   "id": "b41c9ea3-a21b-4439-9479-ae950d5ce515",
   "metadata": {},
   "source": [
    "Adding images is almost the same syntax\n",
    "\n",
    "```markdown\n",
    "![Sample Image](path/to/image.png)\n",
    "```\n",
    "\n",
    "**Example** Type in the below text in markdown cell \n",
    "```markdown\n",
    "![iBehave](img/iBehave_Logo.png)\n",
    "```"
   ]
  },
  {
   "cell_type": "code",
   "execution_count": null,
   "id": "5de39d33-c26c-4427-8e0d-c1ddae1fcfad",
   "metadata": {},
   "outputs": [],
   "source": []
  },
  {
   "cell_type": "markdown",
   "id": "ebb49eca-3816-4459-974d-2187e6dd48f8",
   "metadata": {},
   "source": [
    "Have a mathematical equation? No problem. You can use latex to write equations. Type the below code into markdown and see how it renders\n",
    "\n",
    "```markdown\n",
    "$E = mc^2$\n",
    "```"
   ]
  },
  {
   "cell_type": "code",
   "execution_count": null,
   "id": "6c82f3d9-c54c-4133-9110-df7382b12693",
   "metadata": {},
   "outputs": [],
   "source": []
  },
  {
   "cell_type": "markdown",
   "id": "5e9cf1bb-d0c6-48c7-a0b6-79c0896fff89",
   "metadata": {},
   "source": [
    "Want to make a table?\n",
    "\n",
    "```markdown\n",
    "| Column 1 | Column 2 |\n",
    "|----------|----------|\n",
    "| Value 1  | Value 2  |\n",
    "| Value 3  | Value 4  |\n",
    "```\n",
    "\n",
    "Make a table in the below cell with two columns and three rows"
   ]
  },
  {
   "cell_type": "code",
   "execution_count": null,
   "id": "d50080ee-7dc5-4874-91e8-a113b954a4b0",
   "metadata": {},
   "outputs": [],
   "source": []
  },
  {
   "cell_type": "markdown",
   "id": "f8dd4f0e-8cc8-41cf-8492-bb4ecb822836",
   "metadata": {},
   "source": [
    "Want to display a block of code in markdown? You can do so by enclosing your code within ```\n",
    "\n",
    "**Example** Show syntax of printing hello world in Python (Press enter on this cell to see the code)\n",
    "```python\n",
    "print(\"Hello, world!\")\n",
    "```"
   ]
  },
  {
   "cell_type": "markdown",
   "id": "428d85a3-e048-4f7d-a61a-d5b6a02906f0",
   "metadata": {},
   "source": [
    "### Reading in Data and Seeing it: Pandas"
   ]
  },
  {
   "cell_type": "markdown",
   "id": "57f5f4b5-f450-4657-8dc7-6995017e3b20",
   "metadata": {},
   "source": [
    "### Visualizations in Jupyter: HvPlot"
   ]
  }
 ],
 "metadata": {
  "kernelspec": {
   "display_name": "Python 3 (ipykernel)",
   "language": "python",
   "name": "python3"
  },
  "language_info": {
   "codemirror_mode": {
    "name": "ipython",
    "version": 3
   },
   "file_extension": ".py",
   "mimetype": "text/x-python",
   "name": "python",
   "nbconvert_exporter": "python",
   "pygments_lexer": "ipython3",
   "version": "3.12.7"
  }
 },
 "nbformat": 4,
 "nbformat_minor": 5
}
