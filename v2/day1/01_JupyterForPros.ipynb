{
 "cells": [
  {
   "cell_type": "markdown",
   "id": "28ff481d-bcd1-4d13-9b66-e6c07fec22f9",
   "metadata": {},
   "source": [
    "# Jupyter Notebooks To Make Advanced Analysis Documents\n",
    "\n",
    "Jupyter Notebooks are a powerful tool to combine your code and add analysis documentation all in the same document. In this session, we start by understanding the basic unit of a Jupyter notebook known as cell and cell modes. Then we look into some of the advanced ways to integrate text based explanations into analysis document. Now that we are familiar with the structure of Jupyter notebook, we move on to looking at the data itself within a notebook using `Pandas`. Finally, we use `hvPlot` to add visualizations.\n",
    "\n",
    "To make things easier, you can use the following shortcut table to quickly navigate and edit Jupyter notebook.\n",
    "\n",
    "| **Shortcut**              | **Action**                                         |\n",
    "|---------------------------|---------------------------------------------------|\n",
    "| `Shift + Enter`            | Run the current cell and move to the next         |\n",
    "| `Ctrl + Enter`             | Run the current cell but stay on the same cell    |\n",
    "| `Alt + Enter`              | Run the current cell and insert a new one below   |\n",
    "| `Esc + A`                  | Insert a new cell above                           |\n",
    "| `Esc + B`                  | Insert a new cell below                           |\n",
    "| `Esc + D + D`              | Delete the current cell                           |\n",
    "| `Esc + M`                  | Convert the current cell to Markdown              |\n",
    "| `Esc + Y`                  | Convert the current cell to Code                  |\n",
    "| `Esc + Z`                  | Undo cell deletion                                |\n",
    "| `Ctrl + Shift + -`         | Split the current cell at the cursor              |\n",
    "| `Ctrl + S`                 | Save the notebook                                 |\n",
    "| `Ctrl + /`                 | Toggle comment on the selected code line(s)       |\n",
    "| `Esc + L`                  | Toggle line numbers in the current cell           |\n",
    "| `Esc + O`                  | Toggle cell output visibility                     |\n",
    "| `Esc + H`                  | Show keyboard shortcuts help dialog               |\n",
    "| `Ctrl + Shift + P`         | Open the command palette                          |\n",
    "| `Esc + Shift + Arrow Up`   | Select multiple cells upwards                     |\n",
    "| `Esc + Shift + Arrow Down` | Select multiple cells downwards                   |\n",
    "| `Esc + Shift + M`          | Merge selected cells                              |\n"
   ]
  },
  {
   "cell_type": "markdown",
   "id": "31fd46a7-6c35-4013-b195-d3871fa3069b",
   "metadata": {},
   "source": [
    "### Cell Modes and Cell Types\n",
    "\n",
    "Cell is a basic unit of Jupyter notebook. It is where we write, execute, and organize our code and notes. There are three types of cells in Jupyter.\n",
    "\n",
    "![Cell Type](img/cell_mode.png)\n",
    "\n",
    "- **Code Cells**: Execute code and display the resulting output below the cell.\n",
    "- **Markdown Cells**: Render formatted text for documentation, using Markdown syntax.\n",
    "- **Raw NBConvert Cells**: Contain raw, unprocessed text meant for export without modification.\n",
    "\n",
    "There are two types of cell modes: Command mode and Edit mode. Basically, command mode lets you change your cell at the notebook level while edit mode lets you change the contents of the cell. \n",
    "\n",
    "| Mode          | How to Access                | What Can Be Done                                  |\n",
    "|---------------|------------------------------|---------------------------------------------------|\n",
    "| **Command Mode** | Press **Esc** or click outside the cell | Manage cells: Add, delete, copy, paste, move cells. |\n",
    "| **Edit Mode**    | Press **Enter** or click inside the cell | Edit cell content: Type, modify text/code, format. |"
   ]
  },
  {
   "cell_type": "code",
   "execution_count": null,
   "id": "680829cd-4ccd-4bdb-87d3-10ba18d4d7f4",
   "metadata": {},
   "outputs": [],
   "source": [
    "%run"
   ]
  },
  {
   "cell_type": "code",
   "execution_count": null,
   "id": "58233076-0dd7-4dee-867e-dc978023c643",
   "metadata": {},
   "outputs": [],
   "source": [
    "!run"
   ]
  },
  {
   "cell_type": "code",
   "execution_count": null,
   "id": "ab4057b7-b258-46ff-afa1-f7ce3d5a2e92",
   "metadata": {},
   "outputs": [],
   "source": [
    "run()"
   ]
  },
  {
   "cell_type": "markdown",
   "id": "a9c38163-e77d-4683-9b61-dfaec073390e",
   "metadata": {},
   "source": [
    "run"
   ]
  },
  {
   "cell_type": "code",
   "execution_count": null,
   "id": "d1acc359-3a4d-4362-b9b4-d315e9bf9e63",
   "metadata": {},
   "outputs": [],
   "source": [
    "<h1>run</h1>"
   ]
  },
  {
   "cell_type": "raw",
   "id": "e282462e-9746-493c-a824-bd1444544448",
   "metadata": {},
   "source": [
    "hello"
   ]
  },
  {
   "cell_type": "markdown",
   "id": "9ad6ee61-f88f-49ff-bc4b-f2e37698b556",
   "metadata": {},
   "source": [
    "### Markdown"
   ]
  },
  {
   "cell_type": "markdown",
   "id": "428d85a3-e048-4f7d-a61a-d5b6a02906f0",
   "metadata": {},
   "source": [
    "### Reading in Data and Seeing it: Pandas"
   ]
  },
  {
   "cell_type": "markdown",
   "id": "57f5f4b5-f450-4657-8dc7-6995017e3b20",
   "metadata": {},
   "source": [
    "### Visualizations in Jupyter: HvPlot"
   ]
  }
 ],
 "metadata": {
  "kernelspec": {
   "display_name": "Python 3 (ipykernel)",
   "language": "python",
   "name": "python3"
  },
  "language_info": {
   "codemirror_mode": {
    "name": "ipython",
    "version": 3
   },
   "file_extension": ".py",
   "mimetype": "text/x-python",
   "name": "python",
   "nbconvert_exporter": "python",
   "pygments_lexer": "ipython3",
   "version": "3.12.7"
  }
 },
 "nbformat": 4,
 "nbformat_minor": 5
}
