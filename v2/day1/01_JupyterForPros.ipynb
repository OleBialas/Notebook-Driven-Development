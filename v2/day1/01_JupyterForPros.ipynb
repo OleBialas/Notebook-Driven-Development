{
 "cells": [
  {
   "cell_type": "markdown",
   "id": "28ff481d-bcd1-4d13-9b66-e6c07fec22f9",
   "metadata": {},
   "source": [
    "# Title\n",
    "\n"
   ]
  },
  {
   "cell_type": "code",
   "execution_count": null,
   "id": "13b0779d-407b-4121-94c6-c40660a500d2",
   "metadata": {},
   "outputs": [],
   "source": []
  },
  {
   "cell_type": "markdown",
   "id": "31fd46a7-6c35-4013-b195-d3871fa3069b",
   "metadata": {},
   "source": [
    "### Cell Modes"
   ]
  },
  {
   "cell_type": "code",
   "execution_count": null,
   "id": "680829cd-4ccd-4bdb-87d3-10ba18d4d7f4",
   "metadata": {},
   "outputs": [],
   "source": [
    "%run"
   ]
  },
  {
   "cell_type": "code",
   "execution_count": null,
   "id": "58233076-0dd7-4dee-867e-dc978023c643",
   "metadata": {},
   "outputs": [],
   "source": [
    "!run"
   ]
  },
  {
   "cell_type": "code",
   "execution_count": null,
   "id": "ab4057b7-b258-46ff-afa1-f7ce3d5a2e92",
   "metadata": {},
   "outputs": [],
   "source": [
    "run()"
   ]
  },
  {
   "cell_type": "markdown",
   "id": "a9c38163-e77d-4683-9b61-dfaec073390e",
   "metadata": {},
   "source": [
    "run"
   ]
  },
  {
   "cell_type": "code",
   "execution_count": null,
   "id": "d1acc359-3a4d-4362-b9b4-d315e9bf9e63",
   "metadata": {},
   "outputs": [],
   "source": [
    "<h1>run</h1>"
   ]
  },
  {
   "cell_type": "raw",
   "id": "e282462e-9746-493c-a824-bd1444544448",
   "metadata": {},
   "source": [
    "hello"
   ]
  },
  {
   "cell_type": "markdown",
   "id": "9ad6ee61-f88f-49ff-bc4b-f2e37698b556",
   "metadata": {},
   "source": [
    "### Markdown"
   ]
  },
  {
   "cell_type": "markdown",
   "id": "428d85a3-e048-4f7d-a61a-d5b6a02906f0",
   "metadata": {},
   "source": [
    "### Reading in Data and Seeing it: Pandas"
   ]
  },
  {
   "cell_type": "markdown",
   "id": "57f5f4b5-f450-4657-8dc7-6995017e3b20",
   "metadata": {},
   "source": [
    "### Visualizations in Jupyter: HvPlot"
   ]
  }
 ],
 "metadata": {
  "kernelspec": {
   "display_name": "Python 3 (ipykernel)",
   "language": "python",
   "name": "python3"
  },
  "language_info": {
   "codemirror_mode": {
    "name": "ipython",
    "version": 3
   },
   "file_extension": ".py",
   "mimetype": "text/x-python",
   "name": "python",
   "nbconvert_exporter": "python",
   "pygments_lexer": "ipython3",
   "version": "3.11.10"
  }
 },
 "nbformat": 4,
 "nbformat_minor": 5
}
