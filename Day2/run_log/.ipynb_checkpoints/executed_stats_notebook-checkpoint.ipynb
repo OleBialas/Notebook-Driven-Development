{
 "cells": [
  {
   "cell_type": "code",
   "execution_count": 1,
   "id": "bf4b18d4-afbf-4164-bffc-6e8f0ac38cfd",
   "metadata": {
    "execution": {
     "iopub.execute_input": "2024-10-06T18:32:38.191051Z",
     "iopub.status.busy": "2024-10-06T18:32:38.191051Z",
     "iopub.status.idle": "2024-10-06T18:32:38.476902Z",
     "shell.execute_reply": "2024-10-06T18:32:38.476382Z"
    }
   },
   "outputs": [],
   "source": [
    "import pandas as pd"
   ]
  },
  {
   "cell_type": "markdown",
   "id": "c63d6d45-feba-41b8-a06e-5e16bfdb4bb1",
   "metadata": {},
   "source": [
    "Reading data"
   ]
  },
  {
   "cell_type": "code",
   "execution_count": 2,
   "id": "eeb67026-0882-4157-903b-38c35f0e2edb",
   "metadata": {
    "execution": {
     "iopub.execute_input": "2024-10-06T18:32:38.479302Z",
     "iopub.status.busy": "2024-10-06T18:32:38.478273Z",
     "iopub.status.idle": "2024-10-06T18:32:38.707641Z",
     "shell.execute_reply": "2024-10-06T18:32:38.707641Z"
    }
   },
   "outputs": [],
   "source": [
    "url = 'https://raw.githubusercontent.com/resbaz/r-novice-gapminder-files/master/data/gapminder-FiveYearData.csv'\n",
    "df = pd.read_csv(url)"
   ]
  },
  {
   "cell_type": "markdown",
   "id": "221b644c-1f8d-4fc8-82dc-9d9254865f9d",
   "metadata": {},
   "source": [
    "Basic information"
   ]
  },
  {
   "cell_type": "code",
   "execution_count": 3,
   "id": "b494288c-c9a9-4f41-ac1c-258f6576acf4",
   "metadata": {
    "execution": {
     "iopub.execute_input": "2024-10-06T18:32:38.710573Z",
     "iopub.status.busy": "2024-10-06T18:32:38.710573Z",
     "iopub.status.idle": "2024-10-06T18:32:38.718893Z",
     "shell.execute_reply": "2024-10-06T18:32:38.718893Z"
    }
   },
   "outputs": [
    {
     "name": "stdout",
     "output_type": "stream",
     "text": [
      "<class 'pandas.core.frame.DataFrame'>\n",
      "RangeIndex: 1704 entries, 0 to 1703\n",
      "Data columns (total 6 columns):\n",
      " #   Column     Non-Null Count  Dtype  \n",
      "---  ------     --------------  -----  \n",
      " 0   country    1704 non-null   object \n",
      " 1   year       1704 non-null   int64  \n",
      " 2   pop        1704 non-null   float64\n",
      " 3   continent  1704 non-null   object \n",
      " 4   lifeExp    1704 non-null   float64\n",
      " 5   gdpPercap  1704 non-null   float64\n",
      "dtypes: float64(3), int64(1), object(2)\n",
      "memory usage: 80.0+ KB\n"
     ]
    }
   ],
   "source": [
    "df.info()"
   ]
  },
  {
   "cell_type": "markdown",
   "id": "f73df420-19ed-443c-af03-542203a43448",
   "metadata": {},
   "source": [
    "Countries"
   ]
  },
  {
   "cell_type": "code",
   "execution_count": 4,
   "id": "bfd6fdb6-24b8-46d1-896a-f0107bcc07dc",
   "metadata": {
    "execution": {
     "iopub.execute_input": "2024-10-06T18:32:38.720922Z",
     "iopub.status.busy": "2024-10-06T18:32:38.720922Z",
     "iopub.status.idle": "2024-10-06T18:32:38.725450Z",
     "shell.execute_reply": "2024-10-06T18:32:38.725450Z"
    }
   },
   "outputs": [
    {
     "data": {
      "text/plain": [
       "142"
      ]
     },
     "execution_count": 4,
     "metadata": {},
     "output_type": "execute_result"
    }
   ],
   "source": [
    "df['country'].nunique()"
   ]
  },
  {
   "cell_type": "code",
   "execution_count": 5,
   "id": "61797bb1-10f9-46e3-b859-da6ade4b3a44",
   "metadata": {
    "execution": {
     "iopub.execute_input": "2024-10-06T18:32:38.725450Z",
     "iopub.status.busy": "2024-10-06T18:32:38.725450Z",
     "iopub.status.idle": "2024-10-06T18:32:38.730867Z",
     "shell.execute_reply": "2024-10-06T18:32:38.730867Z"
    }
   },
   "outputs": [
    {
     "data": {
      "text/plain": [
       "array(['Afghanistan', 'Albania', 'Algeria', 'Angola', 'Argentina',\n",
       "       'Australia', 'Austria', 'Bahrain', 'Bangladesh', 'Belgium',\n",
       "       'Benin', 'Bolivia', 'Bosnia and Herzegovina', 'Botswana', 'Brazil',\n",
       "       'Bulgaria', 'Burkina Faso', 'Burundi', 'Cambodia', 'Cameroon',\n",
       "       'Canada', 'Central African Republic', 'Chad', 'Chile', 'China',\n",
       "       'Colombia', 'Comoros', 'Congo Dem. Rep.', 'Congo Rep.',\n",
       "       'Costa Rica', \"Cote d'Ivoire\", 'Croatia', 'Cuba', 'Czech Republic',\n",
       "       'Denmark', 'Djibouti', 'Dominican Republic', 'Ecuador', 'Egypt',\n",
       "       'El Salvador', 'Equatorial Guinea', 'Eritrea', 'Ethiopia',\n",
       "       'Finland', 'France', 'Gabon', 'Gambia', 'Germany', 'Ghana',\n",
       "       'Greece', 'Guatemala', 'Guinea', 'Guinea-Bissau', 'Haiti',\n",
       "       'Honduras', 'Hong Kong China', 'Hungary', 'Iceland', 'India',\n",
       "       'Indonesia', 'Iran', 'Iraq', 'Ireland', 'Israel', 'Italy',\n",
       "       'Jamaica', 'Japan', 'Jordan', 'Kenya', 'Korea Dem. Rep.',\n",
       "       'Korea Rep.', 'Kuwait', 'Lebanon', 'Lesotho', 'Liberia', 'Libya',\n",
       "       'Madagascar', 'Malawi', 'Malaysia', 'Mali', 'Mauritania',\n",
       "       'Mauritius', 'Mexico', 'Mongolia', 'Montenegro', 'Morocco',\n",
       "       'Mozambique', 'Myanmar', 'Namibia', 'Nepal', 'Netherlands',\n",
       "       'New Zealand', 'Nicaragua', 'Niger', 'Nigeria', 'Norway', 'Oman',\n",
       "       'Pakistan', 'Panama', 'Paraguay', 'Peru', 'Philippines', 'Poland',\n",
       "       'Portugal', 'Puerto Rico', 'Reunion', 'Romania', 'Rwanda',\n",
       "       'Sao Tome and Principe', 'Saudi Arabia', 'Senegal', 'Serbia',\n",
       "       'Sierra Leone', 'Singapore', 'Slovak Republic', 'Slovenia',\n",
       "       'Somalia', 'South Africa', 'Spain', 'Sri Lanka', 'Sudan',\n",
       "       'Swaziland', 'Sweden', 'Switzerland', 'Syria', 'Taiwan',\n",
       "       'Tanzania', 'Thailand', 'Togo', 'Trinidad and Tobago', 'Tunisia',\n",
       "       'Turkey', 'Uganda', 'United Kingdom', 'United States', 'Uruguay',\n",
       "       'Venezuela', 'Vietnam', 'West Bank and Gaza', 'Yemen Rep.',\n",
       "       'Zambia', 'Zimbabwe'], dtype=object)"
      ]
     },
     "execution_count": 5,
     "metadata": {},
     "output_type": "execute_result"
    }
   ],
   "source": [
    "df['country'].unique()"
   ]
  },
  {
   "cell_type": "markdown",
   "id": "81f0604b-8775-47b8-8601-4111cf11399a",
   "metadata": {},
   "source": [
    "Continent"
   ]
  },
  {
   "cell_type": "code",
   "execution_count": 6,
   "id": "129e6fb6-e290-45c1-a972-e32a809ec0a9",
   "metadata": {
    "execution": {
     "iopub.execute_input": "2024-10-06T18:32:38.732918Z",
     "iopub.status.busy": "2024-10-06T18:32:38.732918Z",
     "iopub.status.idle": "2024-10-06T18:32:38.735840Z",
     "shell.execute_reply": "2024-10-06T18:32:38.735840Z"
    }
   },
   "outputs": [
    {
     "data": {
      "text/plain": [
       "5"
      ]
     },
     "execution_count": 6,
     "metadata": {},
     "output_type": "execute_result"
    }
   ],
   "source": [
    "df['continent'].nunique()"
   ]
  },
  {
   "cell_type": "code",
   "execution_count": 7,
   "id": "f316f699-96f5-446e-8a65-d9d3bb835215",
   "metadata": {
    "execution": {
     "iopub.execute_input": "2024-10-06T18:32:38.737907Z",
     "iopub.status.busy": "2024-10-06T18:32:38.737907Z",
     "iopub.status.idle": "2024-10-06T18:32:38.740699Z",
     "shell.execute_reply": "2024-10-06T18:32:38.740699Z"
    }
   },
   "outputs": [
    {
     "data": {
      "text/plain": [
       "array(['Asia', 'Europe', 'Africa', 'Americas', 'Oceania'], dtype=object)"
      ]
     },
     "execution_count": 7,
     "metadata": {},
     "output_type": "execute_result"
    }
   ],
   "source": [
    "df['continent'].unique()"
   ]
  },
  {
   "cell_type": "markdown",
   "id": "6e6a6bdf-f852-4469-938a-5fa50e75f464",
   "metadata": {},
   "source": [
    "Population"
   ]
  },
  {
   "cell_type": "code",
   "execution_count": 8,
   "id": "8cf60bdc-ed3d-41f3-93d3-57d65a0fa202",
   "metadata": {
    "execution": {
     "iopub.execute_input": "2024-10-06T18:32:38.742720Z",
     "iopub.status.busy": "2024-10-06T18:32:38.742720Z",
     "iopub.status.idle": "2024-10-06T18:32:38.745588Z",
     "shell.execute_reply": "2024-10-06T18:32:38.745588Z"
    }
   },
   "outputs": [
    {
     "data": {
      "text/plain": [
       "np.float64(60011.0)"
      ]
     },
     "execution_count": 8,
     "metadata": {},
     "output_type": "execute_result"
    }
   ],
   "source": [
    "df['pop'].min()"
   ]
  },
  {
   "cell_type": "code",
   "execution_count": 9,
   "id": "2dd256d3-4091-4b64-84e2-cc12f59f4081",
   "metadata": {
    "execution": {
     "iopub.execute_input": "2024-10-06T18:32:38.747640Z",
     "iopub.status.busy": "2024-10-06T18:32:38.746591Z",
     "iopub.status.idle": "2024-10-06T18:32:38.750345Z",
     "shell.execute_reply": "2024-10-06T18:32:38.750345Z"
    }
   },
   "outputs": [
    {
     "data": {
      "text/plain": [
       "np.float64(1318683096.0)"
      ]
     },
     "execution_count": 9,
     "metadata": {},
     "output_type": "execute_result"
    }
   ],
   "source": [
    "df['pop'].max()"
   ]
  },
  {
   "cell_type": "code",
   "execution_count": 10,
   "id": "f0a27faa-bb21-4fc6-8d79-202c8f77abf4",
   "metadata": {
    "execution": {
     "iopub.execute_input": "2024-10-06T18:32:38.752419Z",
     "iopub.status.busy": "2024-10-06T18:32:38.751349Z",
     "iopub.status.idle": "2024-10-06T18:32:38.755682Z",
     "shell.execute_reply": "2024-10-06T18:32:38.755682Z"
    }
   },
   "outputs": [
    {
     "data": {
      "text/plain": [
       "np.float64(29601212.32511736)"
      ]
     },
     "execution_count": 10,
     "metadata": {},
     "output_type": "execute_result"
    }
   ],
   "source": [
    "df['pop'].mean()"
   ]
  },
  {
   "cell_type": "code",
   "execution_count": 11,
   "id": "196d11dc-ac39-4a29-97ce-f977faff64e6",
   "metadata": {
    "execution": {
     "iopub.execute_input": "2024-10-06T18:32:38.757700Z",
     "iopub.status.busy": "2024-10-06T18:32:38.757700Z",
     "iopub.status.idle": "2024-10-06T18:32:38.760531Z",
     "shell.execute_reply": "2024-10-06T18:32:38.760531Z"
    }
   },
   "outputs": [
    {
     "data": {
      "text/plain": [
       "np.float64(106157896.74682792)"
      ]
     },
     "execution_count": 11,
     "metadata": {},
     "output_type": "execute_result"
    }
   ],
   "source": [
    "df['pop'].std()"
   ]
  },
  {
   "cell_type": "code",
   "execution_count": 12,
   "id": "171a930a-cabe-402a-929d-eb6112191a66",
   "metadata": {
    "execution": {
     "iopub.execute_input": "2024-10-06T18:32:38.762534Z",
     "iopub.status.busy": "2024-10-06T18:32:38.762534Z",
     "iopub.status.idle": "2024-10-06T18:32:38.766954Z",
     "shell.execute_reply": "2024-10-06T18:32:38.766662Z"
    }
   },
   "outputs": [
    {
     "data": {
      "text/plain": [
       "continent\n",
       "Africa       9.916003\n",
       "Americas    24.504795\n",
       "Asia        77.038722\n",
       "Europe      17.169765\n",
       "Oceania      8.874672\n",
       "Name: pop, dtype: float64"
      ]
     },
     "execution_count": 12,
     "metadata": {},
     "output_type": "execute_result"
    }
   ],
   "source": [
    "df.groupby(['continent'])['pop'].mean()/1e6"
   ]
  },
  {
   "cell_type": "code",
   "execution_count": 13,
   "id": "3aba77a0-789e-4093-9d26-978f5692ce50",
   "metadata": {
    "execution": {
     "iopub.execute_input": "2024-10-06T18:32:38.768999Z",
     "iopub.status.busy": "2024-10-06T18:32:38.767976Z",
     "iopub.status.idle": "2024-10-06T18:32:38.773256Z",
     "shell.execute_reply": "2024-10-06T18:32:38.773256Z"
    }
   },
   "outputs": [
    {
     "data": {
      "text/plain": [
       "count    1.704000e+03\n",
       "mean     2.960121e+07\n",
       "std      1.061579e+08\n",
       "min      6.001100e+04\n",
       "25%      2.793664e+06\n",
       "50%      7.023596e+06\n",
       "75%      1.958522e+07\n",
       "max      1.318683e+09\n",
       "Name: pop, dtype: float64"
      ]
     },
     "execution_count": 13,
     "metadata": {},
     "output_type": "execute_result"
    }
   ],
   "source": [
    "df['pop'].describe()"
   ]
  }
 ],
 "metadata": {
  "kernelspec": {
   "display_name": "Python 3 (ipykernel)",
   "language": "python",
   "name": "python3"
  },
  "language_info": {
   "codemirror_mode": {
    "name": "ipython",
    "version": 3
   },
   "file_extension": ".py",
   "mimetype": "text/x-python",
   "name": "python",
   "nbconvert_exporter": "python",
   "pygments_lexer": "ipython3",
   "version": "3.11.10"
  }
 },
 "nbformat": 4,
 "nbformat_minor": 5
}
