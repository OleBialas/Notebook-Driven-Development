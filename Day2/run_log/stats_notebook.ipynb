{
 "cells": [
  {
   "cell_type": "code",
   "execution_count": null,
   "id": "bf4b18d4-afbf-4164-bffc-6e8f0ac38cfd",
   "metadata": {},
   "outputs": [],
   "source": [
    "import pandas as pd"
   ]
  },
  {
   "cell_type": "markdown",
   "id": "c63d6d45-feba-41b8-a06e-5e16bfdb4bb1",
   "metadata": {},
   "source": [
    "Reading data"
   ]
  },
  {
   "cell_type": "code",
   "execution_count": null,
   "id": "eeb67026-0882-4157-903b-38c35f0e2edb",
   "metadata": {},
   "outputs": [],
   "source": [
    "url = 'https://raw.githubusercontent.com/resbaz/r-novice-gapminder-files/master/data/gapminder-FiveYearData.csv'\n",
    "df = pd.read_csv(url)"
   ]
  },
  {
   "cell_type": "markdown",
   "id": "221b644c-1f8d-4fc8-82dc-9d9254865f9d",
   "metadata": {},
   "source": [
    "Basic information"
   ]
  },
  {
   "cell_type": "code",
   "execution_count": null,
   "id": "b494288c-c9a9-4f41-ac1c-258f6576acf4",
   "metadata": {},
   "outputs": [],
   "source": [
    "df.info()"
   ]
  },
  {
   "cell_type": "markdown",
   "id": "f73df420-19ed-443c-af03-542203a43448",
   "metadata": {},
   "source": [
    "Countries"
   ]
  },
  {
   "cell_type": "code",
   "execution_count": null,
   "id": "bfd6fdb6-24b8-46d1-896a-f0107bcc07dc",
   "metadata": {},
   "outputs": [],
   "source": [
    "df['country'].nunique()"
   ]
  },
  {
   "cell_type": "code",
   "execution_count": null,
   "id": "61797bb1-10f9-46e3-b859-da6ade4b3a44",
   "metadata": {},
   "outputs": [],
   "source": [
    "df['country'].unique()"
   ]
  },
  {
   "cell_type": "markdown",
   "id": "81f0604b-8775-47b8-8601-4111cf11399a",
   "metadata": {},
   "source": [
    "Continent"
   ]
  },
  {
   "cell_type": "code",
   "execution_count": null,
   "id": "129e6fb6-e290-45c1-a972-e32a809ec0a9",
   "metadata": {},
   "outputs": [],
   "source": [
    "df['continent'].nunique()"
   ]
  },
  {
   "cell_type": "code",
   "execution_count": null,
   "id": "f316f699-96f5-446e-8a65-d9d3bb835215",
   "metadata": {},
   "outputs": [],
   "source": [
    "df['continent'].unique()"
   ]
  },
  {
   "cell_type": "markdown",
   "id": "6e6a6bdf-f852-4469-938a-5fa50e75f464",
   "metadata": {},
   "source": [
    "Population"
   ]
  },
  {
   "cell_type": "code",
   "execution_count": null,
   "id": "8cf60bdc-ed3d-41f3-93d3-57d65a0fa202",
   "metadata": {},
   "outputs": [],
   "source": [
    "df['pop'].min()"
   ]
  },
  {
   "cell_type": "code",
   "execution_count": null,
   "id": "2dd256d3-4091-4b64-84e2-cc12f59f4081",
   "metadata": {},
   "outputs": [],
   "source": [
    "df['pop'].max()"
   ]
  },
  {
   "cell_type": "code",
   "execution_count": null,
   "id": "f0a27faa-bb21-4fc6-8d79-202c8f77abf4",
   "metadata": {},
   "outputs": [],
   "source": [
    "df['pop'].mean()"
   ]
  },
  {
   "cell_type": "code",
   "execution_count": null,
   "id": "196d11dc-ac39-4a29-97ce-f977faff64e6",
   "metadata": {},
   "outputs": [],
   "source": [
    "df['pop'].std()"
   ]
  },
  {
   "cell_type": "code",
   "execution_count": null,
   "id": "171a930a-cabe-402a-929d-eb6112191a66",
   "metadata": {},
   "outputs": [],
   "source": [
    "df.groupby(['continent'])['pop'].mean()/1e6"
   ]
  },
  {
   "cell_type": "code",
   "execution_count": null,
   "id": "3aba77a0-789e-4093-9d26-978f5692ce50",
   "metadata": {},
   "outputs": [],
   "source": [
    "df['pop'].describe()"
   ]
  }
 ],
 "metadata": {
  "kernelspec": {
   "display_name": "Python 3 (ipykernel)",
   "language": "python",
   "name": "python3"
  },
  "language_info": {
   "codemirror_mode": {
    "name": "ipython",
    "version": 3
   },
   "file_extension": ".py",
   "mimetype": "text/x-python",
   "name": "python",
   "nbconvert_exporter": "python",
   "pygments_lexer": "ipython3",
   "version": "3.11.10"
  }
 },
 "nbformat": 4,
 "nbformat_minor": 5
}
