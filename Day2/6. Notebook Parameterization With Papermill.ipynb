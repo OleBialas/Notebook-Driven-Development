{
 "cells": [
  {
   "cell_type": "code",
   "execution_count": null,
   "id": "5911273e-0471-4fb1-a323-57234bf0c5c2",
   "metadata": {
    "editable": true,
    "slideshow": {
     "slide_type": ""
    },
    "tags": []
   },
   "outputs": [],
   "source": [
    "# !pip install papermill"
   ]
  },
  {
   "cell_type": "code",
   "execution_count": null,
   "id": "2a959982-ce0e-47f0-b9d3-4a2f61f612fd",
   "metadata": {
    "editable": true,
    "slideshow": {
     "slide_type": ""
    },
    "tags": []
   },
   "outputs": [],
   "source": [
    "import papermill as pm"
   ]
  },
  {
   "cell_type": "markdown",
   "id": "67f8fa0e-4398-467c-8539-535e1632bb0f",
   "metadata": {
    "editable": true,
    "slideshow": {
     "slide_type": ""
    },
    "tags": []
   },
   "source": [
    "# Notebook Parameterization With Papermill"
   ]
  },
  {
   "cell_type": "markdown",
   "id": "7e053291-d201-4d6e-b5d8-b2e45496708a",
   "metadata": {},
   "source": [
    "## CLI"
   ]
  },
  {
   "cell_type": "code",
   "execution_count": null,
   "id": "6e47096a-4bfc-4181-997a-eddf2a7de03f",
   "metadata": {
    "editable": true,
    "slideshow": {
     "slide_type": ""
    },
    "tags": []
   },
   "outputs": [],
   "source": [
    "# run without setting parameters tag (what happens?)"
   ]
  },
  {
   "cell_type": "code",
   "execution_count": null,
   "id": "5ff1c011-9241-4f49-9f78-c8ab5a5c478b",
   "metadata": {},
   "outputs": [],
   "source": [
    "# set parameter tag (take screenshots)"
   ]
  },
  {
   "cell_type": "code",
   "execution_count": null,
   "id": "eeb01451-a552-4d6f-97af-7e7c0565aff1",
   "metadata": {
    "editable": true,
    "slideshow": {
     "slide_type": ""
    },
    "tags": []
   },
   "outputs": [],
   "source": [
    "!papermill notebooks/papermill/template_analysis_notebook.ipynb notebooks/papermill/output.ipynb -p num_rows 5"
   ]
  },
  {
   "cell_type": "code",
   "execution_count": null,
   "id": "8887b6bd-4889-4a02-9702-3b3e4e04741e",
   "metadata": {
    "editable": true,
    "slideshow": {
     "slide_type": ""
    },
    "tags": []
   },
   "outputs": [],
   "source": [
    "!papermill notebooks/papermill/template_analysis_notebook.ipynb notebooks/papermill/output.ipynb -p num_rows 5 -p population_unit 1000"
   ]
  },
  {
   "cell_type": "code",
   "execution_count": null,
   "id": "6bb90d94-a439-4990-8e4c-85a490a1bd88",
   "metadata": {
    "editable": true,
    "slideshow": {
     "slide_type": ""
    },
    "tags": []
   },
   "outputs": [],
   "source": [
    "# passing with yaml string"
   ]
  },
  {
   "cell_type": "code",
   "execution_count": null,
   "id": "32b5a85d-ff86-43b7-9d8d-fbabd97cbc2b",
   "metadata": {
    "editable": true,
    "slideshow": {
     "slide_type": ""
    },
    "tags": []
   },
   "outputs": [],
   "source": [
    "!papermill notebooks/papermill/template_analysis_notebook.ipynb notebooks/papermill/output.ipynb -y \"{num_rows: 3, population_unit: 10, gdp_unit: 1000}\""
   ]
  },
  {
   "cell_type": "markdown",
   "id": "1febb1d6-7b53-48df-9c46-9b27ef099eef",
   "metadata": {
    "editable": true,
    "slideshow": {
     "slide_type": ""
    },
    "tags": []
   },
   "source": [
    "explain: what is yaml?\n",
    "\n",
    "to make it easier: create a yaml file containing all your parameters.\n",
    "\n",
    "create params.yaml file in papermill folder and paste the following text. Note that we dont use exponential notation here. \n",
    "\n",
    "```yaml\n",
    "num_rows: 2\n",
    "population_unit: 10000\n",
    "gdp_unit: 100\n",
    "```"
   ]
  },
  {
   "cell_type": "code",
   "execution_count": null,
   "id": "28b6555d-fbd8-4979-be74-ec82290e73bd",
   "metadata": {
    "editable": true,
    "slideshow": {
     "slide_type": ""
    },
    "tags": []
   },
   "outputs": [],
   "source": [
    "!papermill notebooks/papermill/template_analysis_notebook.ipynb notebooks/papermill/output.ipynb -f notebooks/papermill/params.yaml"
   ]
  },
  {
   "cell_type": "markdown",
   "id": "977d6077-fa04-4757-b04b-078fb56fc54d",
   "metadata": {
    "editable": true,
    "slideshow": {
     "slide_type": ""
    },
    "tags": []
   },
   "source": [
    "## Python API"
   ]
  },
  {
   "cell_type": "code",
   "execution_count": null,
   "id": "941f70e6-7729-4911-9dc8-9de1bf5f49b2",
   "metadata": {
    "editable": true,
    "slideshow": {
     "slide_type": ""
    },
    "tags": []
   },
   "outputs": [],
   "source": [
    "input_nb = 'notebooks/papermill/template_analysis_notebook.ipynb'\n",
    "output_nb = 'notebooks/papermill/output.ipynb'\n",
    "params = {\n",
    "    'num_rows': 3\n",
    "}\n",
    "pm.execute_notebook(input_nb, output_nb, params);"
   ]
  },
  {
   "cell_type": "markdown",
   "id": "e59cd07e-d96e-46d9-a07c-d4f90aecad77",
   "metadata": {
    "editable": true,
    "slideshow": {
     "slide_type": ""
    },
    "tags": []
   },
   "source": [
    "## Batch Processing"
   ]
  },
  {
   "cell_type": "code",
   "execution_count": null,
   "id": "05f29b6b-e587-454f-b858-2426c06d4b8d",
   "metadata": {
    "editable": true,
    "slideshow": {
     "slide_type": ""
    },
    "tags": []
   },
   "outputs": [],
   "source": [
    "# enumerate"
   ]
  },
  {
   "cell_type": "code",
   "execution_count": null,
   "id": "47c176a0-988a-4bbc-8fe6-e62d94b513af",
   "metadata": {},
   "outputs": [],
   "source": []
  },
  {
   "cell_type": "code",
   "execution_count": null,
   "id": "4b348229-22b3-4146-9f43-7b7f4788e578",
   "metadata": {},
   "outputs": [],
   "source": []
  },
  {
   "cell_type": "code",
   "execution_count": null,
   "id": "cc869b3f-2afd-4587-9e6b-c24a4accf81f",
   "metadata": {},
   "outputs": [],
   "source": []
  },
  {
   "cell_type": "code",
   "execution_count": null,
   "id": "aff23e12-9fca-4f90-91d4-d047cb565cca",
   "metadata": {
    "editable": true,
    "slideshow": {
     "slide_type": ""
    },
    "tags": []
   },
   "outputs": [],
   "source": [
    "input_nb = 'notebooks/papermill/template_analysis_notebook.ipynb'\n",
    "param_1 = {'num_rows':5}\n",
    "param_2 = {'population_unit': 1e3, 'gdp_unit':1e3}\n",
    "params = [param_1, param_2]\n",
    "for i, param in enumerate(params):\n",
    "    output_nb = f'papermill/output_{i}.ipynb'\n",
    "    pm.execute_notebook(input_nb, output_nb, param)"
   ]
  }
 ],
 "metadata": {
  "kernelspec": {
   "display_name": "Python 3 (ipykernel)",
   "language": "python",
   "name": "python3"
  },
  "language_info": {
   "codemirror_mode": {
    "name": "ipython",
    "version": 3
   },
   "file_extension": ".py",
   "mimetype": "text/x-python",
   "name": "python",
   "nbconvert_exporter": "python",
   "pygments_lexer": "ipython3",
   "version": "3.11.7"
  }
 },
 "nbformat": 4,
 "nbformat_minor": 5
}
