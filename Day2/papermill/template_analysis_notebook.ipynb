{
 "cells": [
  {
   "cell_type": "code",
   "execution_count": null,
   "id": "517ba625-02e1-4661-8a05-12bb147c477a",
   "metadata": {
    "editable": true,
    "slideshow": {
     "slide_type": ""
    },
    "tags": []
   },
   "outputs": [],
   "source": [
    "import pandas as pd\n",
    "import hvplot.pandas"
   ]
  },
  {
   "cell_type": "code",
   "execution_count": null,
   "id": "900f412d-b48f-43bd-81ab-2fb3adeb3460",
   "metadata": {
    "editable": true,
    "slideshow": {
     "slide_type": ""
    },
    "tags": [
     "parameters"
    ]
   },
   "outputs": [],
   "source": [
    "num_rows = 10\n",
    "population_unit = 1e6\n",
    "gdp_unit = 1e9"
   ]
  },
  {
   "cell_type": "markdown",
   "id": "3f76e2d1-56a4-4b90-a4ff-08df6b57b762",
   "metadata": {
    "editable": true,
    "slideshow": {
     "slide_type": ""
    },
    "tags": []
   },
   "source": [
    "Readind data"
   ]
  },
  {
   "cell_type": "code",
   "execution_count": null,
   "id": "733c02f8-b06a-470f-b29f-9e0a0af868bf",
   "metadata": {
    "editable": true,
    "slideshow": {
     "slide_type": ""
    },
    "tags": []
   },
   "outputs": [],
   "source": [
    "url = 'https://raw.githubusercontent.com/resbaz/r-novice-gapminder-files/master/data/gapminder-FiveYearData.csv'\n",
    "df = pd.read_csv(url)"
   ]
  },
  {
   "cell_type": "code",
   "execution_count": null,
   "id": "157c9297-9cd2-41e7-8cd1-37960953e272",
   "metadata": {},
   "outputs": [],
   "source": [
    "df.head(num_rows)"
   ]
  },
  {
   "cell_type": "code",
   "execution_count": null,
   "id": "34569cec-658f-4d69-ae00-cb9acb60827f",
   "metadata": {},
   "outputs": [],
   "source": [
    "df['pop_unit'] = df['pop'] / population_unit"
   ]
  },
  {
   "cell_type": "code",
   "execution_count": null,
   "id": "643f53e4-278e-4cc2-a3ce-4ba903964809",
   "metadata": {},
   "outputs": [],
   "source": [
    "df['gdp'] = df['gdpPercap'] * df['pop']\n",
    "df['gdp_unit'] = df['gdp'] / gdp_unit"
   ]
  },
  {
   "cell_type": "markdown",
   "id": "9153d732-cf86-4949-93cd-8aaa14a2595c",
   "metadata": {},
   "source": [
    "Stats"
   ]
  },
  {
   "cell_type": "code",
   "execution_count": null,
   "id": "b24f079f-4d54-4fab-aad4-2a75a1067eee",
   "metadata": {},
   "outputs": [],
   "source": [
    "df['pop_unit'].describe()"
   ]
  },
  {
   "cell_type": "code",
   "execution_count": null,
   "id": "7c471467-2103-435d-9c80-9e675d0dd1e2",
   "metadata": {},
   "outputs": [],
   "source": [
    "df['gdp_unit'].describe()"
   ]
  },
  {
   "cell_type": "markdown",
   "id": "82170597-5cdc-4de8-95a3-94bc8ace05a7",
   "metadata": {},
   "source": [
    "Plotting"
   ]
  },
  {
   "cell_type": "code",
   "execution_count": null,
   "id": "99c82801-a68d-4c5f-99ab-13648ed47691",
   "metadata": {},
   "outputs": [],
   "source": [
    "df.hvplot.scatter(x='year', y='pop_unit')"
   ]
  },
  {
   "cell_type": "code",
   "execution_count": null,
   "id": "40610875-ac63-443b-93c6-7cb365a6e937",
   "metadata": {},
   "outputs": [],
   "source": [
    "df.hvplot.scatter(x='year', y='gdp_unit')"
   ]
  }
 ],
 "metadata": {
  "kernelspec": {
   "display_name": "Python 3 (ipykernel)",
   "language": "python",
   "name": "python3"
  },
  "language_info": {
   "codemirror_mode": {
    "name": "ipython",
    "version": 3
   },
   "file_extension": ".py",
   "mimetype": "text/x-python",
   "name": "python",
   "nbconvert_exporter": "python",
   "pygments_lexer": "ipython3",
   "version": "3.11.10"
  }
 },
 "nbformat": 4,
 "nbformat_minor": 5
}
