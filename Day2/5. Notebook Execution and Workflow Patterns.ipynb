{
 "cells": [
  {
   "cell_type": "markdown",
   "id": "bf1ec8af-0514-4338-963b-2c1a0eda5769",
   "metadata": {},
   "source": [
    "# Notebook Execution and Workflow Patterns"
   ]
  },
  {
   "cell_type": "markdown",
   "id": "cc350dcf-7e1c-4f70-a2be-4a5c2204e286",
   "metadata": {},
   "source": [
    "## Running External Notebooks with Magic Command %run"
   ]
  },
  {
   "cell_type": "code",
   "execution_count": null,
   "id": "f1824849-5178-48d3-8c87-feabad637f55",
   "metadata": {},
   "outputs": [],
   "source": [
    "%run notebooks/analysis_notebook.ipynb"
   ]
  },
  {
   "cell_type": "code",
   "execution_count": null,
   "id": "81180da8-7c4c-4e14-9d47-cbba08c2be91",
   "metadata": {},
   "outputs": [],
   "source": [
    "# accessing variables from analysis_notebook\n",
    "analysis_nb_a"
   ]
  },
  {
   "cell_type": "code",
   "execution_count": null,
   "id": "81be3fcd-0bd1-4f01-b919-783faf133820",
   "metadata": {},
   "outputs": [],
   "source": [
    "analysis_nb_b"
   ]
  },
  {
   "cell_type": "code",
   "execution_count": null,
   "id": "3f516677-d599-4619-8b87-1979ba199f43",
   "metadata": {},
   "outputs": [],
   "source": [
    "# accessing functions from analysis_notebook\n",
    "add_three_nums(10, 20, 30)"
   ]
  },
  {
   "cell_type": "code",
   "execution_count": null,
   "id": "b75425a9-cf78-4695-98c5-05a09f5422c9",
   "metadata": {},
   "outputs": [],
   "source": [
    "# accessing dataframes from analysis_notebook\n",
    "df.head()"
   ]
  },
  {
   "cell_type": "code",
   "execution_count": null,
   "id": "747f707c-1275-42d6-b211-6dc0f57717bb",
   "metadata": {},
   "outputs": [],
   "source": [
    "# using dataframe from analysis_notebook for visualization in current notebook\n",
    "import hvplot.pandas\n",
    "df.hvplot.box(y='lifeExp')"
   ]
  },
  {
   "cell_type": "code",
   "execution_count": null,
   "id": "fee4fe4b-e2a9-4fae-a177-7ed1d2ef08ff",
   "metadata": {},
   "outputs": [],
   "source": [
    "# can it overwrite variables in current or accessed notebook? "
   ]
  },
  {
   "cell_type": "code",
   "execution_count": null,
   "id": "ad4f540e-6d7d-4202-81ea-486130881e3b",
   "metadata": {},
   "outputs": [],
   "source": [
    "# does changing a value of a variable here change its value in analysis_notebook?\n",
    "analysis_nb_a = 100"
   ]
  },
  {
   "cell_type": "code",
   "execution_count": null,
   "id": "1a2a48eb-61ff-4502-99db-4e1c73a5e0c4",
   "metadata": {},
   "outputs": [],
   "source": [
    "# CAUTION! If you have same variable name in current notebook, it can be overwritten\n",
    "# run the notebook again\n",
    "# what is the value of analysis_nb_a now?"
   ]
  },
  {
   "cell_type": "markdown",
   "id": "b1e83088-2578-422e-92b5-705def2f7550",
   "metadata": {},
   "source": [
    "## Script Settings Pattern"
   ]
  },
  {
   "cell_type": "code",
   "execution_count": null,
   "id": "c3077e53-dec8-49be-a06b-613f37593cd4",
   "metadata": {},
   "outputs": [],
   "source": [
    "# making a dictionary"
   ]
  },
  {
   "cell_type": "code",
   "execution_count": null,
   "id": "5099c854-a2b2-42f6-a629-0342d6c52f7f",
   "metadata": {},
   "outputs": [],
   "source": []
  },
  {
   "cell_type": "code",
   "execution_count": null,
   "id": "236a6740-a1ec-47d1-ae80-c4afec19939b",
   "metadata": {},
   "outputs": [],
   "source": []
  },
  {
   "cell_type": "code",
   "execution_count": null,
   "id": "b2d034c0-74b3-45f6-8ec6-579f8e7b70cd",
   "metadata": {},
   "outputs": [],
   "source": []
  },
  {
   "cell_type": "code",
   "execution_count": null,
   "id": "b9561a1c-e850-4a43-ba06-be6190bb4ffc",
   "metadata": {},
   "outputs": [],
   "source": [
    "# accessing dictionary elements"
   ]
  },
  {
   "cell_type": "code",
   "execution_count": null,
   "id": "e4be73d9-7566-4211-9465-b50bd3b73a26",
   "metadata": {},
   "outputs": [],
   "source": []
  },
  {
   "cell_type": "code",
   "execution_count": null,
   "id": "213ab30e-7add-4431-a2db-837bb264242c",
   "metadata": {},
   "outputs": [],
   "source": []
  },
  {
   "cell_type": "code",
   "execution_count": null,
   "id": "26f6421c-d419-4fb5-a470-8caf6b87e3da",
   "metadata": {},
   "outputs": [],
   "source": []
  },
  {
   "cell_type": "code",
   "execution_count": null,
   "id": "dcb1f7fb-4120-4d9e-92b7-f251ec77fe4c",
   "metadata": {},
   "outputs": [],
   "source": [
    "%run notebooks/settings_notebook.ipynb"
   ]
  },
  {
   "cell_type": "code",
   "execution_count": null,
   "id": "db132577-b875-4d2b-aa48-1a716ab55ae6",
   "metadata": {},
   "outputs": [],
   "source": [
    "SETTINGS"
   ]
  },
  {
   "cell_type": "code",
   "execution_count": null,
   "id": "284e6788-cacc-469f-9383-febec253e449",
   "metadata": {},
   "outputs": [],
   "source": [
    "df = pd.read_csv(SETTINGS['url'])"
   ]
  },
  {
   "cell_type": "code",
   "execution_count": null,
   "id": "16000d25-e74b-4443-8414-50b10ef53c4f",
   "metadata": {},
   "outputs": [],
   "source": [
    "df.head(SETTINGS['num_rows'])"
   ]
  },
  {
   "cell_type": "code",
   "execution_count": null,
   "id": "7044e8b6-36dd-4671-971f-c15f551ebfae",
   "metadata": {},
   "outputs": [],
   "source": [
    "%run notebooks/settings_notebook.ipynb\n",
    "df = pd.read_csv(SETTINGS['url'])\n",
    "df.head(SETTINGS['num_rows'])"
   ]
  },
  {
   "cell_type": "code",
   "execution_count": null,
   "id": "12407119-ffc1-487a-bcbb-366fd921391f",
   "metadata": {},
   "outputs": [],
   "source": [
    "%run notebooks/settings_notebook.ipynb\n",
    "df = pd.read_csv(SETTINGS['url'])\n",
    "df.head(SETTINGS['num_rows'])"
   ]
  },
  {
   "cell_type": "markdown",
   "id": "d02fad16-8801-4c7d-8e6c-38c6def9f395",
   "metadata": {},
   "source": [
    "## Workflow Management Pattern"
   ]
  },
  {
   "cell_type": "code",
   "execution_count": null,
   "id": "dffa1428-d8bb-42cb-a483-f0279d72feb8",
   "metadata": {},
   "outputs": [],
   "source": [
    "%run notebooks/workflow_pattern/1_data_load.ipynb"
   ]
  },
  {
   "cell_type": "code",
   "execution_count": null,
   "id": "cf4eeeb5-0a4a-413a-a2d9-6e2739f41448",
   "metadata": {},
   "outputs": [],
   "source": [
    "data"
   ]
  },
  {
   "cell_type": "code",
   "execution_count": null,
   "id": "ed395d06-a856-4416-a9f4-6ea5c37dd19a",
   "metadata": {},
   "outputs": [],
   "source": [
    "%run notebooks/workflow_pattern/2_simple_stats.ipynb"
   ]
  },
  {
   "cell_type": "code",
   "execution_count": null,
   "id": "129755a3-a2d6-4437-9c5d-e6d61b897a00",
   "metadata": {},
   "outputs": [],
   "source": [
    "stats"
   ]
  },
  {
   "cell_type": "code",
   "execution_count": null,
   "id": "99ac081c-8e29-493e-9651-cdc8f20611c2",
   "metadata": {},
   "outputs": [],
   "source": [
    "# we can run them all in loop! lets learn how to do that "
   ]
  },
  {
   "cell_type": "code",
   "execution_count": null,
   "id": "cbe1834c-77d1-4ca7-8c7c-50cc5dc7cedc",
   "metadata": {},
   "outputs": [],
   "source": [
    "# for-loop exercise"
   ]
  },
  {
   "cell_type": "code",
   "execution_count": null,
   "id": "253c4667-162a-445a-a7d5-b5cd4017122f",
   "metadata": {},
   "outputs": [],
   "source": [
    "# for-loop exercise"
   ]
  },
  {
   "cell_type": "code",
   "execution_count": null,
   "id": "48fd5af9-fe59-44a7-b4ac-7da1fb8b63bb",
   "metadata": {},
   "outputs": [],
   "source": [
    "# for-loop exercise"
   ]
  },
  {
   "cell_type": "code",
   "execution_count": null,
   "id": "bdf546f6-0c49-440e-a6a5-380b3e75aa7c",
   "metadata": {},
   "outputs": [],
   "source": [
    "notebooks = ['notebooks/workflow_pattern/1_data_load.ipynb', 'notebooks/workflow_pattern/2_simple_stats.ipynb']\n",
    "for nb in notebooks:\n",
    "    %run $nb"
   ]
  },
  {
   "cell_type": "code",
   "execution_count": null,
   "id": "92ee376c-9282-46bb-8fae-01a48bdaa041",
   "metadata": {},
   "outputs": [],
   "source": [
    "data"
   ]
  },
  {
   "cell_type": "code",
   "execution_count": null,
   "id": "e7ceab8c-0133-4e64-8f76-cf4444fae3c2",
   "metadata": {},
   "outputs": [],
   "source": [
    "stats"
   ]
  },
  {
   "cell_type": "markdown",
   "id": "0258fa51-c364-40e4-a0e4-a07f95302448",
   "metadata": {},
   "source": [
    "## Run Log Pattern"
   ]
  },
  {
   "cell_type": "code",
   "execution_count": null,
   "id": "07f1890c-8f22-4796-baad-8b77deca86d3",
   "metadata": {},
   "outputs": [],
   "source": [
    "!python -m nbconvert --to notebook --execute notebooks/run_log/stats_notebook.ipynb --output executed_stats_notebook.ipynb"
   ]
  }
 ],
 "metadata": {
  "kernelspec": {
   "display_name": "Python 3 (ipykernel)",
   "language": "python",
   "name": "python3"
  },
  "language_info": {
   "codemirror_mode": {
    "name": "ipython",
    "version": 3
   },
   "file_extension": ".py",
   "mimetype": "text/x-python",
   "name": "python",
   "nbconvert_exporter": "python",
   "pygments_lexer": "ipython3",
   "version": "3.11.7"
  }
 },
 "nbformat": 4,
 "nbformat_minor": 5
}
