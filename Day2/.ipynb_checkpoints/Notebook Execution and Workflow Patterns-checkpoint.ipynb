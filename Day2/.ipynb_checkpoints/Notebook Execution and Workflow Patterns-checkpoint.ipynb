{
 "cells": [
  {
   "cell_type": "markdown",
   "id": "bf1ec8af-0514-4338-963b-2c1a0eda5769",
   "metadata": {},
   "source": [
    "# Notebook Execution and Workflow Patterns"
   ]
  },
  {
   "cell_type": "code",
   "execution_count": null,
   "id": "f0ee2b84-ecdc-4145-85a2-69a888bdbe1d",
   "metadata": {},
   "outputs": [],
   "source": []
  }
 ],
 "metadata": {
  "kernelspec": {
   "display_name": "Python 3 (ipykernel)",
   "language": "python",
   "name": "python3"
  },
  "language_info": {
   "codemirror_mode": {
    "name": "ipython",
    "version": 3
   },
   "file_extension": ".py",
   "mimetype": "text/x-python",
   "name": "python",
   "nbconvert_exporter": "python",
   "pygments_lexer": "ipython3",
   "version": "3.11.10"
  }
 },
 "nbformat": 4,
 "nbformat_minor": 5
}
