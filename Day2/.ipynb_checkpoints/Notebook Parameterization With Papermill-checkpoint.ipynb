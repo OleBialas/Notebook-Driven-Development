{
 "cells": [
  {
   "cell_type": "code",
   "execution_count": null,
   "id": "5911273e-0471-4fb1-a323-57234bf0c5c2",
   "metadata": {},
   "outputs": [],
   "source": [
    "# !pip install papermill"
   ]
  },
  {
   "cell_type": "code",
   "execution_count": null,
   "id": "2a959982-ce0e-47f0-b9d3-4a2f61f612fd",
   "metadata": {},
   "outputs": [],
   "source": [
    "import papermill as pm"
   ]
  },
  {
   "cell_type": "markdown",
   "id": "67f8fa0e-4398-467c-8539-535e1632bb0f",
   "metadata": {
    "editable": true,
    "slideshow": {
     "slide_type": ""
    },
    "tags": []
   },
   "source": [
    "# Notebook Parameterization With Papermill"
   ]
  },
  {
   "cell_type": "markdown",
   "id": "7e053291-d201-4d6e-b5d8-b2e45496708a",
   "metadata": {},
   "source": [
    "## CLI"
   ]
  },
  {
   "cell_type": "code",
   "execution_count": null,
   "id": "6e47096a-4bfc-4181-997a-eddf2a7de03f",
   "metadata": {
    "editable": true,
    "slideshow": {
     "slide_type": ""
    },
    "tags": []
   },
   "outputs": [],
   "source": [
    "# run without setting parameters tag"
   ]
  },
  {
   "cell_type": "code",
   "execution_count": null,
   "id": "eeb01451-a552-4d6f-97af-7e7c0565aff1",
   "metadata": {
    "editable": true,
    "slideshow": {
     "slide_type": ""
    },
    "tags": []
   },
   "outputs": [],
   "source": [
    "!papermill papermill/template_analysis_notebook.ipynb papermill/output.ipynb -p num_rows 5"
   ]
  },
  {
   "cell_type": "code",
   "execution_count": null,
   "id": "8887b6bd-4889-4a02-9702-3b3e4e04741e",
   "metadata": {
    "editable": true,
    "slideshow": {
     "slide_type": ""
    },
    "tags": []
   },
   "outputs": [],
   "source": [
    "!papermill papermill/template_analysis_notebook.ipynb papermill/output.ipynb -p num_rows 5 -p population_unit 1000"
   ]
  },
  {
   "cell_type": "markdown",
   "id": "977d6077-fa04-4757-b04b-078fb56fc54d",
   "metadata": {},
   "source": [
    "## Python API"
   ]
  },
  {
   "cell_type": "markdown",
   "id": "e59cd07e-d96e-46d9-a07c-d4f90aecad77",
   "metadata": {},
   "source": [
    "## Batch Processing"
   ]
  }
 ],
 "metadata": {
  "kernelspec": {
   "display_name": "Python 3 (ipykernel)",
   "language": "python",
   "name": "python3"
  },
  "language_info": {
   "codemirror_mode": {
    "name": "ipython",
    "version": 3
   },
   "file_extension": ".py",
   "mimetype": "text/x-python",
   "name": "python",
   "nbconvert_exporter": "python",
   "pygments_lexer": "ipython3",
   "version": "3.11.10"
  }
 },
 "nbformat": 4,
 "nbformat_minor": 5
}
