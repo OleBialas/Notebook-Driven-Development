{
 "cells": [
  {
   "cell_type": "markdown",
   "id": "84a54bfb-7bb2-4025-b4a9-52c25ce6145c",
   "metadata": {},
   "source": [
    "Here is a function"
   ]
  },
  {
   "cell_type": "code",
   "execution_count": 1,
   "id": "ca84eb57-5a50-4a41-a3b9-15a2f7c349a2",
   "metadata": {},
   "outputs": [],
   "source": [
    "def add_three_nums(num1, num2, num3):\n",
    "    return num1+num2+num3"
   ]
  },
  {
   "cell_type": "markdown",
   "id": "895a4e0c-8872-4604-851d-19665246e336",
   "metadata": {},
   "source": [
    "I am reading a data file"
   ]
  },
  {
   "cell_type": "code",
   "execution_count": 2,
   "id": "ed4d3c8f-d65b-4082-ac86-d591638299e0",
   "metadata": {},
   "outputs": [],
   "source": [
    "import pandas as pd\n",
    "url = 'https://raw.githubusercontent.com/resbaz/r-novice-gapminder-files/master/data/gapminder-FiveYearData.csv'\n",
    "df = pd.read_csv(url)"
   ]
  },
  {
   "cell_type": "code",
   "execution_count": 7,
   "id": "e1552c84-8269-4ba7-8f00-d7461ead9598",
   "metadata": {},
   "outputs": [],
   "source": [
    "analysis_nb_a = 10\n",
    "analysis_nb_b = 100"
   ]
  }
 ],
 "metadata": {
  "kernelspec": {
   "display_name": "Python 3 (ipykernel)",
   "language": "python",
   "name": "python3"
  },
  "language_info": {
   "codemirror_mode": {
    "name": "ipython",
    "version": 3
   },
   "file_extension": ".py",
   "mimetype": "text/x-python",
   "name": "python",
   "nbconvert_exporter": "python",
   "pygments_lexer": "ipython3",
   "version": "3.11.10"
  }
 },
 "nbformat": 4,
 "nbformat_minor": 5
}
