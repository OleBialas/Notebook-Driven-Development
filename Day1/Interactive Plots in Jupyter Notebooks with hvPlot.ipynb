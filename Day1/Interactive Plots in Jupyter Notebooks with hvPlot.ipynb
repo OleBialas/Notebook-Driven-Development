{
 "cells": [
  {
   "cell_type": "code",
   "execution_count": 3,
   "id": "460548a7-a865-4603-a6b0-217cec943318",
   "metadata": {},
   "outputs": [],
   "source": [
    "# !pip install pandas hvplot"
   ]
  },
  {
   "cell_type": "markdown",
   "id": "dc0fe8b4-f97b-48da-919f-46f86ae52d23",
   "metadata": {},
   "source": [
    "# Interactive Plots in Jupyter Notebook with hvPlot\n",
    "\n",
    "Being able to interact with your figures and data tables directly makes it easy and fun to do Exploratory Data Analysis (EDA). `hvPlot` can be used to make visualizations "
   ]
  },
  {
   "cell_type": "markdown",
   "id": "5c0ad0fa-0616-4749-b832-5099e6e6ab84",
   "metadata": {},
   "source": [
    "## Section 1: Basics"
   ]
  },
  {
   "cell_type": "markdown",
   "id": "edc3d26b-30ec-4f7d-8077-99ab7f3a5cec",
   "metadata": {},
   "source": [
    "## Section 2: Widgets"
   ]
  },
  {
   "cell_type": "markdown",
   "id": "922ce0c9-71e0-491c-b9c9-469cc2739006",
   "metadata": {},
   "source": [
    "## Section 3: Interactive"
   ]
  },
  {
   "cell_type": "markdown",
   "id": "498107a0-e6a7-49e3-b518-d837e6138991",
   "metadata": {},
   "source": [
    "## Section 4: Explorer"
   ]
  }
 ],
 "metadata": {
  "kernelspec": {
   "display_name": "Python 3 (ipykernel)",
   "language": "python",
   "name": "python3"
  },
  "language_info": {
   "codemirror_mode": {
    "name": "ipython",
    "version": 3
   },
   "file_extension": ".py",
   "mimetype": "text/x-python",
   "name": "python",
   "nbconvert_exporter": "python",
   "pygments_lexer": "ipython3",
   "version": "3.11.7"
  }
 },
 "nbformat": 4,
 "nbformat_minor": 5
}
