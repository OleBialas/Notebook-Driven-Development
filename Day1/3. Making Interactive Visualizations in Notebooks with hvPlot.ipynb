{
 "cells": [
  {
   "cell_type": "code",
   "execution_count": null,
   "id": "7078377b-1338-47c8-bc24-5eefec50474e",
   "metadata": {},
   "outputs": [],
   "source": [
    "# !pip install scipy panel"
   ]
  },
  {
   "cell_type": "code",
   "execution_count": null,
   "id": "43455a61-7fc5-4073-8935-1b5bbf6b98b5",
   "metadata": {},
   "outputs": [],
   "source": [
    "import pandas as pd\n",
    "import hvplot.pandas\n",
    "import panel as pn"
   ]
  },
  {
   "cell_type": "markdown",
   "id": "56f81331-ed7f-4b93-800f-235f1c4eb5e1",
   "metadata": {},
   "source": [
    "# Making Interactive Visualization In Jupyter Notebook with hvPlot"
   ]
  },
  {
   "cell_type": "markdown",
   "id": "869101b7-2392-4f6c-9169-a15d2dcf83b5",
   "metadata": {},
   "source": [
    "## Different Kinds of Visualizations"
   ]
  },
  {
   "cell_type": "code",
   "execution_count": null,
   "id": "18ae6b31-ac16-4aee-a623-c4e9e60713b2",
   "metadata": {},
   "outputs": [],
   "source": [
    "url = 'https://raw.githubusercontent.com/resbaz/r-novice-gapminder-files/master/data/gapminder-FiveYearData.csv'\n",
    "df = pd.read_csv(url)"
   ]
  },
  {
   "cell_type": "code",
   "execution_count": null,
   "id": "3854eddc-6032-4d90-8ef0-abda43b7c7df",
   "metadata": {},
   "outputs": [],
   "source": [
    "# bar\n",
    "df.hvplot.bar(x='continent', y='pop')"
   ]
  },
  {
   "cell_type": "code",
   "execution_count": null,
   "id": "110dd614-ae94-407c-acc2-310d3810a173",
   "metadata": {},
   "outputs": [],
   "source": [
    "df.hvplot.bar(x='continent', y='pop')"
   ]
  },
  {
   "cell_type": "code",
   "execution_count": null,
   "id": "abea8501-6f8f-4d77-a5ce-beeb0b459cc4",
   "metadata": {},
   "outputs": [],
   "source": [
    "df.hvplot.barh(x='continent', y='pop', ylabel='Continent', xlabel='Population', title='Average Population in Continent')"
   ]
  },
  {
   "cell_type": "code",
   "execution_count": null,
   "id": "8ee57525-8684-4ab5-b925-728fc7c88c8c",
   "metadata": {},
   "outputs": [],
   "source": [
    "# box\n",
    "df.hvplot.box(y='lifeExp')"
   ]
  },
  {
   "cell_type": "code",
   "execution_count": null,
   "id": "117ff63d-f9f3-4290-ad50-6486c4610f29",
   "metadata": {},
   "outputs": [],
   "source": []
  },
  {
   "cell_type": "code",
   "execution_count": null,
   "id": "93122c5a-6a7b-4075-824d-6696ec37cc8b",
   "metadata": {},
   "outputs": [],
   "source": []
  },
  {
   "cell_type": "code",
   "execution_count": null,
   "id": "ae4915f1-aeb2-4d93-8612-282bd7ad6f63",
   "metadata": {},
   "outputs": [],
   "source": [
    "# hist\n",
    "df.hvplot.hist('lifeExp')"
   ]
  },
  {
   "cell_type": "code",
   "execution_count": null,
   "id": "7ad3f553-61dc-45ff-95e0-ee502bd5e8f4",
   "metadata": {},
   "outputs": [],
   "source": []
  },
  {
   "cell_type": "code",
   "execution_count": null,
   "id": "7a27ca4d-9f82-4d8e-8b00-d2758e1cf9e0",
   "metadata": {},
   "outputs": [],
   "source": []
  },
  {
   "cell_type": "code",
   "execution_count": null,
   "id": "aedd2c41-0aa9-4026-83a9-85a2975d0433",
   "metadata": {},
   "outputs": [],
   "source": [
    "# violin\n",
    "df.hvplot.violin(y='lifeExp')"
   ]
  },
  {
   "cell_type": "code",
   "execution_count": null,
   "id": "327d0639-dd85-4b68-8b7f-a03b60d6ea6c",
   "metadata": {},
   "outputs": [],
   "source": []
  },
  {
   "cell_type": "code",
   "execution_count": null,
   "id": "b01b6479-694a-4437-83f2-2cb3ba0e5eb3",
   "metadata": {},
   "outputs": [],
   "source": []
  },
  {
   "cell_type": "code",
   "execution_count": null,
   "id": "c0c8112e-4ded-4406-9467-4eec66265e14",
   "metadata": {},
   "outputs": [],
   "source": [
    "# scatter\n",
    "df.hvplot.scatter(x='year', y='lifeExp')"
   ]
  },
  {
   "cell_type": "code",
   "execution_count": null,
   "id": "44e737a7-bcad-4b17-a4d7-5d8d21132c95",
   "metadata": {},
   "outputs": [],
   "source": []
  },
  {
   "cell_type": "code",
   "execution_count": null,
   "id": "046f31fa-7eac-44bd-9096-a1bfb2db4576",
   "metadata": {},
   "outputs": [],
   "source": []
  },
  {
   "cell_type": "markdown",
   "id": "449cab6e-9d85-4e73-b90f-2c2a4bcb67fa",
   "metadata": {},
   "source": [
    "## Subplots"
   ]
  },
  {
   "cell_type": "code",
   "execution_count": null,
   "id": "00625170-7d2b-4795-bae5-900b6831d188",
   "metadata": {},
   "outputs": [],
   "source": [
    "df.hvplot.hist('lifeExp', by='continent')"
   ]
  },
  {
   "cell_type": "code",
   "execution_count": null,
   "id": "94a8ea6a-5d37-4397-bea0-1ed39d62c01e",
   "metadata": {},
   "outputs": [],
   "source": [
    "df.hvplot.hist('lifeExp', by='continent', subplots=True)"
   ]
  },
  {
   "cell_type": "code",
   "execution_count": null,
   "id": "5fc8d278-e0d8-4896-b21d-4ccb7c03578a",
   "metadata": {},
   "outputs": [],
   "source": [
    "df.hvplot.hist('lifeExp', by='continent', subplots=True).cols(1)"
   ]
  },
  {
   "cell_type": "code",
   "execution_count": null,
   "id": "1b699324-3e80-4ee5-92c5-f523e0b99f76",
   "metadata": {},
   "outputs": [],
   "source": [
    "df.hvplot.scatter(x='year', y='lifeExp', by='continent', subplots=True, width=300).cols(3)"
   ]
  },
  {
   "cell_type": "code",
   "execution_count": null,
   "id": "0efef1db-1fd0-40f7-91b5-0b268eaeab2b",
   "metadata": {},
   "outputs": [],
   "source": [
    "df.hvplot.scatter(x='year', y='lifeExp', by='continent', subplots=True, width=300, shared_axes=False).cols(3)"
   ]
  },
  {
   "cell_type": "code",
   "execution_count": null,
   "id": "b515f764-eff2-4646-bc35-c5862f6a6ff9",
   "metadata": {},
   "outputs": [],
   "source": [
    "df_grp = df.groupby(['year', 'continent'])['lifeExp'].mean().reset_index()\n",
    "df_grp.hvplot.scatter(x='year', y='lifeExp', by='continent', subplots=True, width=300, shared_axes=False).cols(3)"
   ]
  },
  {
   "cell_type": "code",
   "execution_count": null,
   "id": "46ba801a-be81-498b-a21a-288ae30e9dce",
   "metadata": {},
   "outputs": [],
   "source": []
  },
  {
   "cell_type": "code",
   "execution_count": null,
   "id": "c6425878-61a6-4f5a-bde6-4fafcae90c71",
   "metadata": {},
   "outputs": [],
   "source": []
  },
  {
   "cell_type": "markdown",
   "id": "58ff8a61-3be6-4a74-9450-f0cf69916b1f",
   "metadata": {},
   "source": [
    "## Interactive Visualization with Widgets"
   ]
  },
  {
   "cell_type": "code",
   "execution_count": null,
   "id": "2e7f489f-528c-4b0f-a3b2-68825867ca9e",
   "metadata": {},
   "outputs": [],
   "source": [
    "df.hvplot.box(y='lifeExp', groupby='continent')"
   ]
  },
  {
   "cell_type": "code",
   "execution_count": null,
   "id": "f4f0549a-13d7-4da2-a0bb-8d7a91e60553",
   "metadata": {},
   "outputs": [],
   "source": [
    "df.hvplot.scatter(x='year', y='lifeExp', groupby='continent')"
   ]
  },
  {
   "cell_type": "code",
   "execution_count": null,
   "id": "781b7367-79a1-49b1-bf9e-02d9b382541d",
   "metadata": {},
   "outputs": [],
   "source": []
  },
  {
   "cell_type": "code",
   "execution_count": null,
   "id": "666543c3-55d8-4d6e-920e-9ce80d68a30a",
   "metadata": {},
   "outputs": [],
   "source": [
    "# wait this takes all countries! we only want countries within a given continent\n",
    "df.hvplot.box(y='lifeExp', groupby=['continent', 'country'])"
   ]
  },
  {
   "cell_type": "code",
   "execution_count": null,
   "id": "5afb3d69-afc3-4788-82bc-cf70479cbd80",
   "metadata": {},
   "outputs": [],
   "source": [
    "# changing variables for groupby and country\n",
    "df.hvplot.box(y='lifeExp', groupby='continent', by='country', width=650, rot=90)"
   ]
  },
  {
   "cell_type": "code",
   "execution_count": null,
   "id": "34e54081-e1d4-48eb-9977-50f8dd9d22a4",
   "metadata": {},
   "outputs": [],
   "source": [
    "df.hvplot.box(y='lifeExp', by='continent', width=1500, rot=90)"
   ]
  },
  {
   "cell_type": "code",
   "execution_count": null,
   "id": "b915b26a-e693-47d8-ab43-f8552b192688",
   "metadata": {},
   "outputs": [],
   "source": [
    "# groupby continent (axes lim changes between frames)\n",
    "df_grp = df.groupby(['year', 'continent'])['lifeExp'].mean().reset_index()\n",
    "df_grp.hvplot.scatter(x='year', y='lifeExp', groupby='continent')"
   ]
  },
  {
   "cell_type": "code",
   "execution_count": null,
   "id": "8e7e4489-c333-4271-ad5f-cc5d5e974254",
   "metadata": {},
   "outputs": [],
   "source": [
    "df_grp = df.groupby(['year', 'continent'])['lifeExp'].mean().reset_index()\n",
    "life_min = df_grp['lifeExp'].min()\n",
    "life_max = df_grp['lifeExp'].max()\n",
    "df_grp.hvplot.scatter(x='year', y='lifeExp', groupby='continent', ylim=(life_min, life_max))"
   ]
  },
  {
   "cell_type": "code",
   "execution_count": null,
   "id": "b986a0f6-25aa-4d74-819f-73c8fadb9c7d",
   "metadata": {},
   "outputs": [],
   "source": [
    "y = pn.widgets.Select(name='y', options = ['lifeExp', 'pop'])\n",
    "plot = df.hvplot.scatter(x='year', y=y)\n",
    "pn.Row(pn.WidgetBox(y), plot)"
   ]
  },
  {
   "cell_type": "code",
   "execution_count": null,
   "id": "78b3f06b-69c2-4fa1-9fa6-52f609555a7d",
   "metadata": {},
   "outputs": [],
   "source": [
    "x = pn.widgets.Select(name='x', options = ['year', 'pop'])\n",
    "y = pn.widgets.Select(name='y', options = ['lifeExp', 'gdpPercap'])\n",
    "plot = df.hvplot.scatter(x=x, y=y)\n",
    "pn.Row(pn.WidgetBox(x, y), plot)"
   ]
  },
  {
   "cell_type": "markdown",
   "id": "7d9dfdae-4dac-4e62-922c-b728df3e69e3",
   "metadata": {},
   "source": [
    "## Explorer For Quick Look"
   ]
  },
  {
   "cell_type": "code",
   "execution_count": null,
   "id": "81d45470-9889-4dc6-aade-112548d98f68",
   "metadata": {},
   "outputs": [],
   "source": [
    "df.hvplot.explorer()"
   ]
  }
 ],
 "metadata": {
  "kernelspec": {
   "display_name": "Python 3 (ipykernel)",
   "language": "python",
   "name": "python3"
  },
  "language_info": {
   "codemirror_mode": {
    "name": "ipython",
    "version": 3
   },
   "file_extension": ".py",
   "mimetype": "text/x-python",
   "name": "python",
   "nbconvert_exporter": "python",
   "pygments_lexer": "ipython3",
   "version": "3.11.7"
  }
 },
 "nbformat": 4,
 "nbformat_minor": 5
}
