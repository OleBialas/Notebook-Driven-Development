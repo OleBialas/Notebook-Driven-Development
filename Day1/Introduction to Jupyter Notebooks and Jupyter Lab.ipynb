{
 "cells": [
  {
   "cell_type": "markdown",
   "id": "acc0e317-b7ba-4f45-a985-0f8665d133f7",
   "metadata": {},
   "source": [
    "# Introduction to Jupyter Notebooks and Jupyter Lab\n",
    "\n",
    "Data science notebooks are powerful tools for researchers bacause \n",
    "\n",
    "- they make interactive coding possible\n",
    "- they support many programming languages like Python, R, Julia, etc\n",
    "- they keep your code and related explanations together. This makes them an excellent platform to share your analysis with your lab and collaborators\n",
    "- you can even call shell commands from within the notebook allowing you to install necessary libraries\n",
    "- you can do interactive visualizations\n",
    "- you can even present your entire notebook or a sample of it as presentation!\n",
    "\n",
    "We will work with one such data science notebook called Jupyter notebooks on a web-based development environment called Jupyter Lab. "
   ]
  },
  {
   "attachments": {},
   "cell_type": "markdown",
   "id": "ad585e30-5502-4a14-8a7a-bd5fc118c633",
   "metadata": {},
   "source": [
    "## Jupyter Lab Interface\n",
    "\n",
    "Jupyter lab's interface lets you browse your files and folders, work with terminals, jupyter notebooks, and scripts which you can see in the `Launcher`. There are typically three sections in the Launcher.\n",
    "1. Notebooks: This is for jupyter notebooks\n",
    "2. Console: This is for ipykernels which are also a tool for interactive coding\n",
    "3. Other: Here you can see terminal, Python files, etc.\n",
    "\n",
    "![Launcher](img/jupyter_launcher.png). \n",
    "\n",
    "You can always access the Launcher by going to `File -> New Launcher` or the keyboard shortcut Ctrl+Shift+L. There is also a button ![launcherbutton](img/launcher.png).\r\n",
    "\n",
    "**Example** Open a new Text File from the Launcher and type in your name.\n",
    "\n",
    "![textfile](img/text_file.png). \n",
    "\n",
    "Do you see the gray dot next to the file name? It means that the changes you made in the file are not saved yet. You can save any changes by using the usual short cut Ctrl+S. **Remember to always save any changes you want to keep**\n",
    "\n",
    "Your newly created file should now be visible in the file explorer. \n",
    "\n",
    "![fileexp](img/file_explorer.png)\n"
   ]
  },
  {
   "cell_type": "markdown",
   "id": "4f0c88f6-0091-4d2d-beba-f50942128f5a",
   "metadata": {},
   "source": [
    "Open a Python File from Other section in the Launcher. You dont have to write any code. Just rename it as 'my_python.py' either by\n",
    "\n",
    "1. Right click on the file -> Rename\n",
    "2. Click once on the file -> F2"
   ]
  },
  {
   "cell_type": "markdown",
   "id": "4d402720-45d1-4194-9f51-1c3af17f1a55",
   "metadata": {},
   "source": [
    "Open a `Python 3 (ipykernel)` from the Console section in the Launcher. How is this different from the Python File?\n",
    "\n",
    "\n",
    "The Python Console is used for interactive python coding. "
   ]
  },
  {
   "cell_type": "markdown",
   "id": "4a1f140c-8e4f-41d2-b2e6-df6447e05a45",
   "metadata": {
    "jp-MarkdownHeadingCollapsed": true
   },
   "source": [
    "## Jupyter notebook basics"
   ]
  },
  {
   "cell_type": "markdown",
   "id": "620de0bb-332b-4a47-b108-1926d242a4fd",
   "metadata": {},
   "source": [
    "## Running system commands"
   ]
  },
  {
   "cell_type": "markdown",
   "id": "ddfc9d71-d18a-47a4-aab7-0c4f3c31e3e8",
   "metadata": {},
   "source": [
    "## Reporting through notebooks"
   ]
  }
 ],
 "metadata": {
  "kernelspec": {
   "display_name": "Python 3 (ipykernel)",
   "language": "python",
   "name": "python3"
  },
  "language_info": {
   "codemirror_mode": {
    "name": "ipython",
    "version": 3
   },
   "file_extension": ".py",
   "mimetype": "text/x-python",
   "name": "python",
   "nbconvert_exporter": "python",
   "pygments_lexer": "ipython3",
   "version": "3.11.7"
  }
 },
 "nbformat": 4,
 "nbformat_minor": 5
}
