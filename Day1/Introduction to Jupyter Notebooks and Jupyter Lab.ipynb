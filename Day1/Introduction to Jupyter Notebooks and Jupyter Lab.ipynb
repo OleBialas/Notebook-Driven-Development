{
 "cells": [
  {
   "cell_type": "markdown",
   "id": "acc0e317-b7ba-4f45-a985-0f8665d133f7",
   "metadata": {},
   "source": [
    "# Introduction to Jupyter Notebooks and Jupyter Lab\n",
    "\n",
    "Data science notebooks are powerful tools for researchers bacause \n",
    "\n",
    "- they make interactive coding possible\n",
    "- they support many programming languages like Python, R, Julia, etc\n",
    "- they keep your code and related explanations together. This makes them an excellent platform to share your analysis with your lab and collaborators\n",
    "- you can even call shell commands from within the notebook allowing you to install necessary libraries\n",
    "- you can do interactive visualizations\n",
    "- you can even present your entire notebook or a sample of it as presentation!\n",
    "\n",
    "We will work with one such data science notebook called Jupyter notebooks on a web-based development environment called Jupyter Lab. Jupyter lab's interface lets you browse your files and folders, work with terminals, jupyter notebooks, and scripts. "
   ]
  },
  {
   "cell_type": "markdown",
   "id": "ad585e30-5502-4a14-8a7a-bd5fc118c633",
   "metadata": {},
   "source": [
    "## Jupyter Lab Interface"
   ]
  },
  {
   "cell_type": "markdown",
   "id": "4a1f140c-8e4f-41d2-b2e6-df6447e05a45",
   "metadata": {},
   "source": [
    "## Jupyter notebook basics"
   ]
  },
  {
   "cell_type": "markdown",
   "id": "620de0bb-332b-4a47-b108-1926d242a4fd",
   "metadata": {},
   "source": [
    "## Running system commands"
   ]
  },
  {
   "cell_type": "markdown",
   "id": "ddfc9d71-d18a-47a4-aab7-0c4f3c31e3e8",
   "metadata": {},
   "source": [
    "## Reporting through notebooks"
   ]
  }
 ],
 "metadata": {
  "kernelspec": {
   "display_name": "Python 3 (ipykernel)",
   "language": "python",
   "name": "python3"
  },
  "language_info": {
   "codemirror_mode": {
    "name": "ipython",
    "version": 3
   },
   "file_extension": ".py",
   "mimetype": "text/x-python",
   "name": "python",
   "nbconvert_exporter": "python",
   "pygments_lexer": "ipython3",
   "version": "3.11.7"
  }
 },
 "nbformat": 4,
 "nbformat_minor": 5
}
