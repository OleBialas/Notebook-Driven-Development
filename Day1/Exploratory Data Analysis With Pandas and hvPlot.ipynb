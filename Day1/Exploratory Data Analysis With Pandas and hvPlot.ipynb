{
 "cells": [
  {
   "cell_type": "code",
   "execution_count": 1,
   "id": "1785c058-92ac-470e-adf6-3636bf8e80b3",
   "metadata": {},
   "outputs": [],
   "source": [
    "# !pip install pandas hvplot"
   ]
  },
  {
   "cell_type": "markdown",
   "id": "4dabd11a-d401-4974-ab51-192acb359f1d",
   "metadata": {},
   "source": [
    "# Exploratory Data Analysis with Pandas and hvPlot\n",
    "\n",
    "Exploratory Data Analysis (EDA) is a crucial step in data analysis process. The purpose of EDA is mainly to summarize the data into few key statistical measures and visualizations to help us understand underlying patterns in the data. During EDA, we are still in discovery phase of our entire analysis process which means that we would benefit from a tool offering these two main features\n",
    "\n",
    "1. Accommodate rapid experimentation of data analysis\n",
    "2. Give immediate result in the form of table/numbers/visualizations\n",
    "3. Integrate text based explanations for future use\n",
    "\n",
    "Notebooks are excellent tools for these as we can do multiple \"experimental\" analyses on our data in different cells or sections, get immediate results, and also document our thought process behind each \"experiment\".\n",
    "\n",
    "In this session, we learn two Python libraries that are well integrated with notebooks for EDA: Pandas for tabular data analysis and hvPlot for visualization. "
   ]
  },
  {
   "cell_type": "markdown",
   "id": "547b841d-c8e2-4e59-97f4-375c7e2245ea",
   "metadata": {},
   "source": [
    "## Quick Data Description"
   ]
  },
  {
   "cell_type": "markdown",
   "id": "e3dc6c3a-e6bf-429e-9e4e-a3781385b54b",
   "metadata": {},
   "source": [
    "## Categorical and Continuos Variables"
   ]
  },
  {
   "cell_type": "markdown",
   "id": "a2059bb5-a32b-4eb3-9524-7152d646571d",
   "metadata": {},
   "source": [
    "## Group-by For Statistics on Groups of Data"
   ]
  },
  {
   "cell_type": "markdown",
   "id": "ef551b4c-0594-42e7-8ba8-842ccd8e9a81",
   "metadata": {},
   "source": [
    "## Visualizing Data "
   ]
  }
 ],
 "metadata": {
  "kernelspec": {
   "display_name": "Python 3 (ipykernel)",
   "language": "python",
   "name": "python3"
  },
  "language_info": {
   "codemirror_mode": {
    "name": "ipython",
    "version": 3
   },
   "file_extension": ".py",
   "mimetype": "text/x-python",
   "name": "python",
   "nbconvert_exporter": "python",
   "pygments_lexer": "ipython3",
   "version": "3.11.10"
  }
 },
 "nbformat": 4,
 "nbformat_minor": 5
}
