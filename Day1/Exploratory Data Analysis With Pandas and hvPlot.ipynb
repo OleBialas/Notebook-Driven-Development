{
 "cells": [
  {
   "cell_type": "code",
   "execution_count": 1,
   "id": "eaa085e9",
   "metadata": {},
   "outputs": [],
   "source": [
    "# !pip install pandas hvplot"
   ]
  },
  {
   "cell_type": "markdown",
   "id": "7b22676c",
   "metadata": {},
   "source": [
    "# Exploratory Data Analysis with Pandas and hvPlot\n",
    "\n",
    "Exploratory Data Analysis (EDA) is a crucial step in data analysis process. The purpose of EDA is mainly to summarize the data into few key statistical measures and visualizations to help us understand underlying patterns in the data. During EDA, we are still in discovery phase of our entire analysis process which means that we would benefit from a tool offering these two main features\n",
    "\n",
    "1. Accommodate rapid experimentation of data analysis\n",
    "2. Give immediate result in the form of table/numbers/visualizations\n",
    "3. Integrate text based explanations for future use\n",
    "\n",
    "Notebooks are excellent tools for these as we can do multiple \"experimental\" analyses on our data in different cells or sections, get immediate results, and also document our thought process behind each \"experiment\".\n",
    "\n",
    "In this session, we learn two Python libraries that are well integrated with notebooks for EDA: Pandas for tabular data analysis and hvPlot for visualization. "
   ]
  },
  {
   "cell_type": "markdown",
   "id": "bcaa827f",
   "metadata": {},
   "source": [
    "## Categorical Variables"
   ]
  },
  {
   "cell_type": "markdown",
   "id": "c8ae93c8",
   "metadata": {},
   "source": [
    "## Continuos Variables"
   ]
  },
  {
   "cell_type": "markdown",
   "id": "fb869393",
   "metadata": {},
   "source": [
    "## Categorical Data Visualization"
   ]
  },
  {
   "cell_type": "markdown",
   "id": "0d18cc81",
   "metadata": {},
   "source": [
    "## Continuos Data Visualization "
   ]
  }
 ],
 "metadata": {
  "kernelspec": {
   "display_name": "Python 3 (ipykernel)",
   "language": "python",
   "name": "python3"
  },
  "language_info": {
   "codemirror_mode": {
    "name": "ipython",
    "version": 3
   },
   "file_extension": ".py",
   "mimetype": "text/x-python",
   "name": "python",
   "nbconvert_exporter": "python",
   "pygments_lexer": "ipython3",
   "version": "3.12.7"
  }
 },
 "nbformat": 4,
 "nbformat_minor": 5
}
