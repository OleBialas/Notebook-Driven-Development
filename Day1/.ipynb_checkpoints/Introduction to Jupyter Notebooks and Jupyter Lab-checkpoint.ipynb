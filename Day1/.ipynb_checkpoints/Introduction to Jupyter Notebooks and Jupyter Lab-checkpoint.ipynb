{
 "cells": [
  {
   "cell_type": "markdown",
   "id": "acc0e317-b7ba-4f45-a985-0f8665d133f7",
   "metadata": {
    "editable": true,
    "slideshow": {
     "slide_type": ""
    },
    "tags": []
   },
   "source": [
    "# Introduction to Jupyter Notebooks and Jupyter Lab\n",
    "\n",
    "Data science notebooks are powerful tools for researchers bacause \n",
    "\n",
    "- they make interactive coding possible\n",
    "- they support many programming languages like Python, R, Julia, etc\n",
    "- they keep your code and related explanations together. This makes them an excellent platform to share your analysis with your lab and collaborators\n",
    "- you can even call shell commands from within the notebook allowing you to install necessary libraries\n",
    "- you can do interactive visualizations\n",
    "- you can even present your entire notebook or a sample of it as presentation!\n",
    "\n",
    "We will work with one such data science notebook called Jupyter notebooks on a web-based development environment called Jupyter Lab. "
   ]
  },
  {
   "attachments": {},
   "cell_type": "markdown",
   "id": "ad585e30-5502-4a14-8a7a-bd5fc118c633",
   "metadata": {},
   "source": [
    "## Jupyter Lab Interface\n",
    "\n",
    "Jupyter lab's interface lets you browse your files and folders, work with terminals, jupyter notebooks, and scripts which you can see in the `Launcher`. There are typically three sections in the Launcher.\n",
    "1. Notebooks: This is for jupyter notebooks\n",
    "2. Console: This is for ipykernels which are also a tool for interactive coding\n",
    "3. Other: Here you can see terminal, Python files, etc.\n",
    "\n",
    "![Launcher](img/jupyter_launcher.png). \n",
    "\n",
    "You can always access the Launcher by going to `File -> New Launcher` or the keyboard shortcut Ctrl+Shift+L. There is also a button ![launcherbutton](img/launcher.png).\r\n",
    "\n",
    "**Example** Open a new Text File from the Launcher and type in your name.\n",
    "\n",
    "![textfile](img/text_file.png). \n",
    "\n",
    "Do you see the gray dot next to the file name? It means that the changes you made in the file are not saved yet. You can save any changes by using the usual short cut Ctrl+S. **Remember to always save any changes you want to keep**\n",
    "\n",
    "Your newly created file should now be visible in the file explorer. \n",
    "\n",
    "![fileexp](img/file_explorer.png)\n"
   ]
  },
  {
   "cell_type": "markdown",
   "id": "4f0c88f6-0091-4d2d-beba-f50942128f5a",
   "metadata": {},
   "source": [
    "Open a Python File from Other section in the Launcher. You dont have to write any code. Just rename it as 'my_python.py' either by\n",
    "\n",
    "1. Right click on the file -> Rename\n",
    "2. Click once on the file -> F2"
   ]
  },
  {
   "cell_type": "markdown",
   "id": "4d402720-45d1-4194-9f51-1c3af17f1a55",
   "metadata": {
    "editable": true,
    "slideshow": {
     "slide_type": ""
    },
    "tags": []
   },
   "source": [
    "Open a `Python 3 (ipykernel)` from the Console section in the Launcher. How is this different from the Python File? The Python Console is used for interactive python coding. You can type in Python commands into the input cell shown by red arrow in the below image. Your command will be evaluated and will be shown along with the output as shown within red rectangle.\n",
    "\n",
    "![Console](img/console.png).\n",
    "\n",
    "This is similar to how a Jupyter notebook functions which we will explore in the next section."
   ]
  },
  {
   "cell_type": "markdown",
   "id": "4a1f140c-8e4f-41d2-b2e6-df6447e05a45",
   "metadata": {},
   "source": [
    "## Jupyter Notebook Basics\r\n",
    "\r\n",
    "We will be working with Jupyter notebooks, which evolved from IPython (the console you saw earlier). The basic unit of Jupyter notebooks is called a `cell`. A cell can be of two types:\r\n",
    "\r\n",
    "- **Code cell**: Here, whatever you type will be executed as code.\r\n",
    "- **Markdown cell**: Whatever you type here will be treated as text.\r\n",
    "\r\n",
    "Combining them, you can create a documented analysis. The document you are reading right now is a Jupyter notebook. We will use the same document for most of our exercises. First, let's familiarize ourselves with the toolbar that you see at the top of the notebook.\r\n",
    "\r\n",
    "![code_cell](img/code_cell.png)\r\n",
    "\r\n",
    "This image above shows a part of the toolbar in a **Jupyter Notebook** interface, displaying several useful controls for managing cells and executing code. Here is an explanation of important icons and items shown in the toolbar:\r\n",
    "\r\n",
    "1. **Add Cell (+)** (red arrow pointing to it):\r\n",
    "    - This icon is used to insert a new cell below the currently selected cell. In Jupyter Notebooks, a new cell can be used to either write code or text (Markdown).\r\n",
    "\r\n",
    "2. **Run Cell (Right Arrow/Play Icon)**:\r\n",
    "    - This icon runs the currently selected cell. If it contains code, it will execute the code and display the output directly below the cell.\r\n",
    "\r\n",
    "3. **Cell Type Dropdown (Markdown, Code, etc.)** (green arrow pointing to \"Markdown\"):\r\n",
    "    - This dropdown allows you to change the type of a selected cell. The two main types are:\r\n",
    "        - **Code**: Cells that contain code, which will be executed when run.\r\n",
    "        - **Markdown**: Cells used to write formatted text, explanations, and LaTeX equations. These cells do not run code but are useful for documentation.\r\n",
    " cell rather than running code."
   ]
  },
  {
   "cell_type": "markdown",
   "id": "92e9aa98-1962-42c9-a69e-732e2e64e38d",
   "metadata": {},
   "source": [
    "Create a new code cell and execute `1+1`\n",
    "\n",
    "1. Use the `+` on toolbar to create a new cell and change it to `Code` (**You can also use short cuts Ctrl+B to create cell below current cell or Ctrl+A to create above**)\n",
    "    - If the new cell is Markdown cell, you can turn it into Code cell by `Ctrl+Y`\n",
    "3. Click on the play button on the toolbar (**Ctrl+Enter** or **Shift+Enter**)"
   ]
  },
  {
   "cell_type": "markdown",
   "id": "670efcd4-2b77-43a1-bc6d-854d34f8cb59",
   "metadata": {},
   "source": [
    "Create a new Markdown cell and type in some text\n",
    "\n",
    "1. Use the `+` on toolbar to create a new cell and change it to `Code` (**You can also use short cuts Ctrl+B to create cell below current cell or Ctrl+A to create above**)\n",
    "    - If the new cell is Code cell, you can turn it into Markdown by `Ctrl+M`\n",
    "2. Click on the play button on the toolbar (**Ctrl+Enter** or **Shift+Enter**)"
   ]
  },
  {
   "cell_type": "markdown",
   "id": "187bc6ea-4a29-4f7b-b6bc-be12766259b6",
   "metadata": {
    "editable": true,
    "slideshow": {
     "slide_type": ""
    },
    "tags": []
   },
   "source": [
    "Great! You know the enough Jupyter notebook functions to be able to work with one. However, to get the best out of Jupyter notebooks, you should explore some of the features given in [Markdown Cheat Sheet](Markdown_Cheat_Sheet.pdf)"
   ]
  },
  {
   "cell_type": "markdown",
   "id": "620de0bb-332b-4a47-b108-1926d242a4fd",
   "metadata": {},
   "source": [
    "## Running system commands"
   ]
  },
  {
   "cell_type": "markdown",
   "id": "ddfc9d71-d18a-47a4-aab7-0c4f3c31e3e8",
   "metadata": {},
   "source": [
    "## Reporting through notebooks"
   ]
  }
 ],
 "metadata": {
  "kernelspec": {
   "display_name": "Python 3 (ipykernel)",
   "language": "python",
   "name": "python3"
  },
  "language_info": {
   "codemirror_mode": {
    "name": "ipython",
    "version": 3
   },
   "file_extension": ".py",
   "mimetype": "text/x-python",
   "name": "python",
   "nbconvert_exporter": "python",
   "pygments_lexer": "ipython3",
   "version": "3.11.7"
  }
 },
 "nbformat": 4,
 "nbformat_minor": 5
}
